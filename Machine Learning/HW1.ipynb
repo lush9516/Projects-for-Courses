{
 "cells": [
  {
   "cell_type": "code",
   "execution_count": 2,
   "metadata": {},
   "outputs": [],
   "source": [
    "import pandas as pd\n",
    "import numpy as np\n",
    "import matplotlib.pyplot as plt"
   ]
  },
  {
   "cell_type": "code",
   "execution_count": 3,
   "metadata": {},
   "outputs": [],
   "source": [
    "data = pd.read_csv(\"ice_cream.csv\")"
   ]
  },
  {
   "cell_type": "code",
   "execution_count": 4,
   "metadata": {},
   "outputs": [],
   "source": [
    "price_unit = (data[\"price_paid_deal\"]+data[\"price_paid_non_deal\"])/data[\"quantity\"]\n",
    "data_price = pd.concat([data,price_unit],axis=1)\n",
    "data_price = data_price.rename(columns={0:\"price_unit\"})"
   ]
  },
  {
   "cell_type": "code",
   "execution_count": 36,
   "metadata": {},
   "outputs": [
    {
     "name": "stdout",
     "output_type": "stream",
     "text": [
      "<class 'pandas.core.frame.DataFrame'>\n",
      "RangeIndex: 21974 entries, 0 to 21973\n",
      "Data columns (total 38 columns):\n",
      "quantity                         21974 non-null int64\n",
      "price_paid_deal                  21974 non-null float64\n",
      "price_paid_non_deal              21974 non-null float64\n",
      "coupon_value                     21974 non-null float64\n",
      "promotion_type                   8994 non-null float64\n",
      "total_spent                      21974 non-null float64\n",
      "size1_descr                      21974 non-null object\n",
      "flavor_descr                     21974 non-null object\n",
      "formula_descr                    21974 non-null object\n",
      "household_id                     21974 non-null int64\n",
      "household_size                   21974 non-null int64\n",
      "household_income                 21974 non-null int64\n",
      "age_of_female_head               21974 non-null int64\n",
      "age_of_male_head                 21974 non-null int64\n",
      "age_and_presence_of_children     21974 non-null int64\n",
      "male_head_employment             21974 non-null int64\n",
      "female_head_employment           21974 non-null int64\n",
      "male_head_education              21974 non-null int64\n",
      "female_head_education            21974 non-null int64\n",
      "marital_status                   21974 non-null int64\n",
      "male_head_occupation             21974 non-null int64\n",
      "female_head_occupation           19707 non-null float64\n",
      "household_composition            21974 non-null int64\n",
      "race                             21974 non-null int64\n",
      "hispanic_origin                  21974 non-null int64\n",
      "region                           21974 non-null int64\n",
      "scantrack_market_identifier      17906 non-null float64\n",
      "projection_factor                21974 non-null int64\n",
      "fips_state_code                  21974 non-null int64\n",
      "fips_county_code                 21974 non-null int64\n",
      "census_tract_county_code         21836 non-null float64\n",
      "type_of_residence                21974 non-null int64\n",
      "kitchen_appliances               21974 non-null int64\n",
      "tv_items                         21940 non-null float64\n",
      "female_head_birth                19707 non-null object\n",
      "male_head_birth                  16657 non-null object\n",
      "household_internet_connection    21974 non-null int64\n",
      "price_unit                       21974 non-null float64\n",
      "dtypes: float64(10), int64(23), object(5)\n",
      "memory usage: 6.4+ MB\n"
     ]
    }
   ],
   "source": [
    "data_price.info()"
   ]
  },
  {
   "cell_type": "code",
   "execution_count": 9,
   "metadata": {},
   "outputs": [
    {
     "data": {
      "text/plain": [
       "array([2, 1, 3, 4, 5, 7, 6, 8, 9])"
      ]
     },
     "execution_count": 9,
     "metadata": {},
     "output_type": "execute_result"
    }
   ],
   "source": [
    "data_price[\"household_size\"].unique()"
   ]
  },
  {
   "cell_type": "code",
   "execution_count": 35,
   "metadata": {},
   "outputs": [
    {
     "data": {
      "text/plain": [
       "9.48"
      ]
     },
     "execution_count": 35,
     "metadata": {},
     "output_type": "execute_result"
    }
   ],
   "source": [
    "data_price[\"price_unit\"].max()"
   ]
  },
  {
   "cell_type": "code",
   "execution_count": 34,
   "metadata": {},
   "outputs": [
    {
     "data": {
      "text/html": [
       "<div>\n",
       "<style scoped>\n",
       "    .dataframe tbody tr th:only-of-type {\n",
       "        vertical-align: middle;\n",
       "    }\n",
       "\n",
       "    .dataframe tbody tr th {\n",
       "        vertical-align: top;\n",
       "    }\n",
       "\n",
       "    .dataframe thead th {\n",
       "        text-align: right;\n",
       "    }\n",
       "</style>\n",
       "<table border=\"1\" class=\"dataframe\">\n",
       "  <thead>\n",
       "    <tr style=\"text-align: right;\">\n",
       "      <th></th>\n",
       "      <th>quantity</th>\n",
       "      <th>price_paid_deal</th>\n",
       "      <th>price_paid_non_deal</th>\n",
       "      <th>coupon_value</th>\n",
       "      <th>promotion_type</th>\n",
       "      <th>total_spent</th>\n",
       "      <th>size1_descr</th>\n",
       "      <th>flavor_descr</th>\n",
       "      <th>formula_descr</th>\n",
       "      <th>household_id</th>\n",
       "      <th>...</th>\n",
       "      <th>projection_factor</th>\n",
       "      <th>fips_state_code</th>\n",
       "      <th>fips_county_code</th>\n",
       "      <th>census_tract_county_code</th>\n",
       "      <th>type_of_residence</th>\n",
       "      <th>kitchen_appliances</th>\n",
       "      <th>tv_items</th>\n",
       "      <th>female_head_birth</th>\n",
       "      <th>male_head_birth</th>\n",
       "      <th>household_internet_connection</th>\n",
       "    </tr>\n",
       "  </thead>\n",
       "  <tbody>\n",
       "    <tr>\n",
       "      <td>2423</td>\n",
       "      <td>1</td>\n",
       "      <td>0.0</td>\n",
       "      <td>0.0</td>\n",
       "      <td>0.0</td>\n",
       "      <td>NaN</td>\n",
       "      <td>113.71</td>\n",
       "      <td>16.0 MLOZ</td>\n",
       "      <td>PUMPKIN CSK</td>\n",
       "      <td>REGULAR</td>\n",
       "      <td>30053675</td>\n",
       "      <td>...</td>\n",
       "      <td>6288</td>\n",
       "      <td>22</td>\n",
       "      <td>55</td>\n",
       "      <td>1901.0</td>\n",
       "      <td>1</td>\n",
       "      <td>4</td>\n",
       "      <td>2.0</td>\n",
       "      <td>1/1/76</td>\n",
       "      <td>10/1/74</td>\n",
       "      <td>1</td>\n",
       "    </tr>\n",
       "    <tr>\n",
       "      <td>10866</td>\n",
       "      <td>1</td>\n",
       "      <td>0.0</td>\n",
       "      <td>0.0</td>\n",
       "      <td>0.0</td>\n",
       "      <td>NaN</td>\n",
       "      <td>27.70</td>\n",
       "      <td>16.0 MLOZ</td>\n",
       "      <td>ONE CSK BROWNIE</td>\n",
       "      <td>REGULAR</td>\n",
       "      <td>30137726</td>\n",
       "      <td>...</td>\n",
       "      <td>2938</td>\n",
       "      <td>9</td>\n",
       "      <td>9</td>\n",
       "      <td>165801.0</td>\n",
       "      <td>6</td>\n",
       "      <td>4</td>\n",
       "      <td>2.0</td>\n",
       "      <td>10/1/69</td>\n",
       "      <td>NaN</td>\n",
       "      <td>1</td>\n",
       "    </tr>\n",
       "  </tbody>\n",
       "</table>\n",
       "<p>2 rows × 37 columns</p>\n",
       "</div>"
      ],
      "text/plain": [
       "       quantity  price_paid_deal  price_paid_non_deal  coupon_value  \\\n",
       "2423          1              0.0                  0.0           0.0   \n",
       "10866         1              0.0                  0.0           0.0   \n",
       "\n",
       "       promotion_type  total_spent size1_descr     flavor_descr formula_descr  \\\n",
       "2423              NaN       113.71   16.0 MLOZ      PUMPKIN CSK       REGULAR   \n",
       "10866             NaN        27.70   16.0 MLOZ  ONE CSK BROWNIE       REGULAR   \n",
       "\n",
       "       household_id  ...  projection_factor  fips_state_code  \\\n",
       "2423       30053675  ...               6288               22   \n",
       "10866      30137726  ...               2938                9   \n",
       "\n",
       "       fips_county_code  census_tract_county_code  type_of_residence  \\\n",
       "2423                 55                    1901.0                  1   \n",
       "10866                 9                  165801.0                  6   \n",
       "\n",
       "       kitchen_appliances  tv_items  female_head_birth  male_head_birth  \\\n",
       "2423                    4       2.0             1/1/76          10/1/74   \n",
       "10866                   4       2.0            10/1/69              NaN   \n",
       "\n",
       "       household_internet_connection  \n",
       "2423                               1  \n",
       "10866                              1  \n",
       "\n",
       "[2 rows x 37 columns]"
      ]
     },
     "execution_count": 34,
     "metadata": {},
     "output_type": "execute_result"
    }
   ],
   "source": [
    "data[(data_price[\"price_unit\"]==0)]"
   ]
  },
  {
   "cell_type": "code",
   "execution_count": 17,
   "metadata": {},
   "outputs": [],
   "source": [
    "Q1 = np.quantile(data_price[\"price_unit\"],0.25)\n",
    "Q3 = np.quantile(data_price[\"price_unit\"],0.75)\n",
    "IQR = Q3 - Q1"
   ]
  },
  {
   "cell_type": "code",
   "execution_count": 28,
   "metadata": {},
   "outputs": [
    {
     "data": {
      "text/plain": [
       "1315"
      ]
     },
     "execution_count": 28,
     "metadata": {},
     "output_type": "execute_result"
    }
   ],
   "source": [
    "len(data_price[(data_price[\"price_unit\"] > (Q3 + IQR*1.5))])"
   ]
  },
  {
   "cell_type": "code",
   "execution_count": 29,
   "metadata": {},
   "outputs": [
    {
     "data": {
      "text/plain": [
       "635"
      ]
     },
     "execution_count": 29,
     "metadata": {},
     "output_type": "execute_result"
    }
   ],
   "source": [
    "len(data_price[(data_price[\"price_unit\"] < (Q1 - IQR*1.5))])"
   ]
  },
  {
   "cell_type": "code",
   "execution_count": 4,
   "metadata": {
    "scrolled": true
   },
   "outputs": [
    {
     "data": {
      "text/plain": [
       "flavor_descr\n",
       "WHITE RUSSIAN            4.190000\n",
       "STR                      3.686364\n",
       "SWEET CREAM & COOKIES    3.651176\n",
       "COFFEE                   3.574286\n",
       "VAN                      3.508951\n",
       "Name: price_unit, dtype: float64"
      ]
     },
     "execution_count": 4,
     "metadata": {},
     "output_type": "execute_result"
    }
   ],
   "source": [
    "price_unit_by_flavor = data_price.groupby(\"flavor_descr\").mean()[\"price_unit\"].sort_values(ascending=False)[:5]\n",
    "price_unit_by_flavor"
   ]
  },
  {
   "cell_type": "code",
   "execution_count": 5,
   "metadata": {},
   "outputs": [
    {
     "data": {
      "text/plain": [
       "([<matplotlib.axis.XTick at 0x11806cb10>,\n",
       "  <matplotlib.axis.XTick at 0x11c607d10>,\n",
       "  <matplotlib.axis.XTick at 0x11c607210>,\n",
       "  <matplotlib.axis.XTick at 0x11c63b590>,\n",
       "  <matplotlib.axis.XTick at 0x11c63ba90>],\n",
       " <a list of 5 Text xticklabel objects>)"
      ]
     },
     "execution_count": 5,
     "metadata": {},
     "output_type": "execute_result"
    },
    {
     "data": {
      "image/png": "[encoded data removed]",
      "text/plain": [
       "<Figure size 720x360 with 1 Axes>"
      ]
     },
     "metadata": {
      "needs_background": "light"
     },
     "output_type": "display_data"
    }
   ],
   "source": [
    "plt.figure(figsize=(10,5))\n",
    "plt.title(\"Price per unit of top five flavors\")\n",
    "loc = [1,2,3,4,5]\n",
    "plt.bar(loc,price_unit_by_flavor,width=0.4,align='center',alpha=0.8)\n",
    "plt.xticks(loc,price_unit_by_flavor.index)"
   ]
  },
  {
   "cell_type": "code",
   "execution_count": 36,
   "metadata": {},
   "outputs": [
    {
     "data": {
      "text/plain": [
       "household_size\n",
       "2    4.190\n",
       "1    4.190\n",
       "7    3.990\n",
       "6    3.990\n",
       "5    3.990\n",
       "4    3.990\n",
       "3    3.990\n",
       "8    3.976\n",
       "9    3.890\n",
       "Name: price_unit, dtype: float64"
      ]
     },
     "execution_count": 36,
     "metadata": {},
     "output_type": "execute_result"
    }
   ],
   "source": [
    "price_unit_by_household_size = data_price.groupby(\"household_size\")[\"price_unit\"].quantile(0.9).sort_values(ascending=False)\n",
    "price_unit_by_household_size\n"
   ]
  },
  {
   "cell_type": "code",
   "execution_count": 37,
   "metadata": {},
   "outputs": [
    {
     "data": {
      "text/plain": [
       "([<matplotlib.axis.XTick at 0x124f0a710>,\n",
       "  <matplotlib.axis.XTick at 0x124eefd50>,\n",
       "  <matplotlib.axis.XTick at 0x12367fe90>,\n",
       "  <matplotlib.axis.XTick at 0x12503cc50>,\n",
       "  <matplotlib.axis.XTick at 0x125047250>,\n",
       "  <matplotlib.axis.XTick at 0x125047810>,\n",
       "  <matplotlib.axis.XTick at 0x125047e90>,\n",
       "  <matplotlib.axis.XTick at 0x12504f510>,\n",
       "  <matplotlib.axis.XTick at 0x12504fb50>],\n",
       " <a list of 9 Text xticklabel objects>)"
      ]
     },
     "execution_count": 37,
     "metadata": {},
     "output_type": "execute_result"
    },
    {
     "data": {
      "image/png": "[encoded data removed]",
      "text/plain": [
       "<Figure size 720x360 with 1 Axes>"
      ]
     },
     "metadata": {
      "needs_background": "light"
     },
     "output_type": "display_data"
    }
   ],
   "source": [
    "plt.figure(figsize=(10,5))\n",
    "plt.title(\"90% quantile Price per unit of different household income\")\n",
    "loc = list(range(len(price_unit_by_household_size)))\n",
    "plt.bar(loc,price_unit_by_household_size,width=0.4,align='center',alpha=0.8)\n",
    "plt.xticks(loc,price_unit_by_household_size.index)"
   ]
  },
  {
   "cell_type": "code",
   "execution_count": 33,
   "metadata": {},
   "outputs": [
    {
     "data": {
      "text/plain": [
       "household_income\n",
       "28    4.490\n",
       "6     4.460\n",
       "27    4.250\n",
       "10    4.220\n",
       "29    4.190\n",
       "13    4.190\n",
       "19    4.120\n",
       "21    4.090\n",
       "16    4.066\n",
       "30    4.000\n",
       "26    4.000\n",
       "11    3.990\n",
       "8     3.990\n",
       "17    3.990\n",
       "15    3.990\n",
       "18    3.990\n",
       "23    3.990\n",
       "3     3.990\n",
       "4     3.751\n",
       "Name: price_unit, dtype: float64"
      ]
     },
     "execution_count": 33,
     "metadata": {},
     "output_type": "execute_result"
    }
   ],
   "source": [
    "price_unit_by_household_income = data_price.groupby(\"household_income\")[\"price_unit\"].quantile(0.9).sort_values(ascending=False)\n",
    "price_unit_by_household_income"
   ]
  },
  {
   "cell_type": "code",
   "execution_count": 35,
   "metadata": {},
   "outputs": [
    {
     "data": {
      "text/plain": [
       "([<matplotlib.axis.XTick at 0x124d9c1d0>,\n",
       "  <matplotlib.axis.XTick at 0x124d821d0>,\n",
       "  <matplotlib.axis.XTick at 0x124d82d50>,\n",
       "  <matplotlib.axis.XTick at 0x124ea4e90>,\n",
       "  <matplotlib.axis.XTick at 0x124eb2450>,\n",
       "  <matplotlib.axis.XTick at 0x124eb2a90>,\n",
       "  <matplotlib.axis.XTick at 0x124eb9190>,\n",
       "  <matplotlib.axis.XTick at 0x124eb9790>,\n",
       "  <matplotlib.axis.XTick at 0x124eb9dd0>,\n",
       "  <matplotlib.axis.XTick at 0x124eb9c90>,\n",
       "  <matplotlib.axis.XTick at 0x124ea4f50>,\n",
       "  <matplotlib.axis.XTick at 0x124ebf790>,\n",
       "  <matplotlib.axis.XTick at 0x124ebfdd0>,\n",
       "  <matplotlib.axis.XTick at 0x124ec5450>,\n",
       "  <matplotlib.axis.XTick at 0x124ec5a90>,\n",
       "  <matplotlib.axis.XTick at 0x124ecc150>,\n",
       "  <matplotlib.axis.XTick at 0x124ecc750>,\n",
       "  <matplotlib.axis.XTick at 0x124eccd90>,\n",
       "  <matplotlib.axis.XTick at 0x124ec5f90>],\n",
       " <a list of 19 Text xticklabel objects>)"
      ]
     },
     "execution_count": 35,
     "metadata": {},
     "output_type": "execute_result"
    },
    {
     "data": {
      "image/png": "[encoded data removed]",
      "text/plain": [
       "<Figure size 720x360 with 1 Axes>"
      ]
     },
     "metadata": {
      "needs_background": "light"
     },
     "output_type": "display_data"
    }
   ],
   "source": [
    "plt.figure(figsize=(10,5))\n",
    "plt.title(\"90% quantile Price per unit of different household income\")\n",
    "loc = list(range(len(price_unit_by_household_income)))\n",
    "plt.bar(loc,price_unit_by_household_income,width=0.4,align='center',alpha=0.8)\n",
    "plt.xticks(loc,price_unit_by_household_income.index)"
   ]
  },
  {
   "cell_type": "code",
   "execution_count": 8,
   "metadata": {},
   "outputs": [
    {
     "data": {
      "text/plain": [
       "race\n",
       "4    3.379076\n",
       "2    3.363364\n",
       "3    3.361332\n",
       "1    3.306233\n",
       "Name: price_unit, dtype: float64"
      ]
     },
     "execution_count": 8,
     "metadata": {},
     "output_type": "execute_result"
    }
   ],
   "source": [
    "price_unit_by_race = data_price.groupby(\"race\").mean()[\"price_unit\"].sort_values(ascending=False)[:5]\n",
    "price_unit_by_race"
   ]
  },
  {
   "cell_type": "code",
   "execution_count": 9,
   "metadata": {},
   "outputs": [
    {
     "data": {
      "text/plain": [
       "([<matplotlib.axis.XTick at 0x11870dbd0>,\n",
       "  <matplotlib.axis.XTick at 0x11d4cf4d0>,\n",
       "  <matplotlib.axis.XTick at 0x11d4cf350>,\n",
       "  <matplotlib.axis.XTick at 0x11d504310>],\n",
       " <a list of 4 Text xticklabel objects>)"
      ]
     },
     "execution_count": 9,
     "metadata": {},
     "output_type": "execute_result"
    },
    {
     "data": {
      "image/png": "[encoded data removed]",
      "text/plain": [
       "<Figure size 720x360 with 1 Axes>"
      ]
     },
     "metadata": {
      "needs_background": "light"
     },
     "output_type": "display_data"
    }
   ],
   "source": [
    "plt.figure(figsize=(10,5))\n",
    "plt.title(\"Price per unit of four races\")\n",
    "loc = [1,2,3,4]\n",
    "plt.bar(loc,price_unit_by_race,width=0.4,align='center',alpha=0.8)\n",
    "plt.xticks(loc,price_unit_by_race.index)"
   ]
  },
  {
   "cell_type": "code",
   "execution_count": 10,
   "metadata": {},
   "outputs": [
    {
     "data": {
      "text/plain": [
       "(array([  1.,   1.,   2.,   2.,   1.,  11.,  10.,   6.,  53.,  18.,  20.,\n",
       "         98.,  36.,  63., 122.,  25.,  60.,   2.,  12.,  38.,   3.,   1.,\n",
       "          8.,   0.,   1.,   1.,   0.,   0.,   0.,   0.,   0.,   0.,   0.,\n",
       "          0.,   0.,   0.,   0.,   0.,   0.,   2.]),\n",
       " array([1.07   , 1.24275, 1.4155 , 1.58825, 1.761  , 1.93375, 2.1065 ,\n",
       "        2.27925, 2.452  , 2.62475, 2.7975 , 2.97025, 3.143  , 3.31575,\n",
       "        3.4885 , 3.66125, 3.834  , 4.00675, 4.1795 , 4.35225, 4.525  ,\n",
       "        4.69775, 4.8705 , 5.04325, 5.216  , 5.38875, 5.5615 , 5.73425,\n",
       "        5.907  , 6.07975, 6.2525 , 6.42525, 6.598  , 6.77075, 6.9435 ,\n",
       "        7.11625, 7.289  , 7.46175, 7.6345 , 7.80725, 7.98   ]),\n",
       " <a list of 40 Patch objects>)"
      ]
     },
     "execution_count": 10,
     "metadata": {},
     "output_type": "execute_result"
    },
    {
     "data": {
      "image/png": "[encoded data removed]",
      "text/plain": [
       "<Figure size 432x288 with 1 Axes>"
      ]
     },
     "metadata": {
      "needs_background": "light"
     },
     "output_type": "display_data"
    }
   ],
   "source": [
    "plt.hist(data_price[\"price_unit\"][(data_price[\"race\"]==1)],bins=40,alpha=0.3)\n",
    "plt.hist(data_price[\"price_unit\"][(data_price[\"race\"]==2)],bins=40,alpha=0.3)\n",
    "plt.hist(data_price[\"price_unit\"][(data_price[\"race\"]==3)],bins=40,alpha=0.3)"
   ]
  },
  {
   "cell_type": "code",
   "execution_count": null,
   "metadata": {},
   "outputs": [],
   "source": []
  }
 ],
 "metadata": {
  "kernelspec": {
   "display_name": "Python 3",
   "language": "python",
   "name": "python3"
  },
  "language_info": {
   "codemirror_mode": {
    "name": "ipython",
    "version": 3
   },
   "file_extension": ".py",
   "mimetype": "text/x-python",
   "name": "python",
   "nbconvert_exporter": "python",
   "pygments_lexer": "ipython3",
   "version": "3.7.4"
  }
 },
 "nbformat": 4,
 "nbformat_minor": 2
}
