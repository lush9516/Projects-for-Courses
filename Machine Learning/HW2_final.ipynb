{
 "cells": [
  {
   "cell_type": "markdown",
   "metadata": {},
   "source": [
    "## Group Member\n",
    "### Han Lu\n",
    "### Jing Hao\n",
    "### Wenbin Lu"
   ]
  },
  {
   "cell_type": "code",
   "execution_count": 1,
   "metadata": {},
   "outputs": [],
   "source": [
    "import numpy as np\n",
    "import pandas as pd\n",
    "import scipy as sp\n",
    "import seaborn as sns\n",
    "import matplotlib.pyplot as plt\n",
    "from sklearn import preprocessing"
   ]
  },
  {
   "cell_type": "markdown",
   "metadata": {},
   "source": [
    "## Loading the Data"
   ]
  },
  {
   "cell_type": "code",
   "execution_count": 2,
   "metadata": {},
   "outputs": [
    {
     "data": {
      "text/html": [
       "<div>\n",
       "<style scoped>\n",
       "    .dataframe tbody tr th:only-of-type {\n",
       "        vertical-align: middle;\n",
       "    }\n",
       "\n",
       "    .dataframe tbody tr th {\n",
       "        vertical-align: top;\n",
       "    }\n",
       "\n",
       "    .dataframe thead th {\n",
       "        text-align: right;\n",
       "    }\n",
       "</style>\n",
       "<table border=\"1\" class=\"dataframe\">\n",
       "  <thead>\n",
       "    <tr style=\"text-align: right;\">\n",
       "      <th></th>\n",
       "      <th>age</th>\n",
       "      <th>workclass</th>\n",
       "      <th>fnlwgt</th>\n",
       "      <th>education</th>\n",
       "      <th>education-num</th>\n",
       "      <th>marital-status</th>\n",
       "      <th>occupation</th>\n",
       "      <th>relationship</th>\n",
       "      <th>race</th>\n",
       "      <th>sex</th>\n",
       "      <th>capital-gain</th>\n",
       "      <th>capital-loss</th>\n",
       "      <th>hours-per-week</th>\n",
       "      <th>native-country</th>\n",
       "      <th>income</th>\n",
       "    </tr>\n",
       "  </thead>\n",
       "  <tbody>\n",
       "    <tr>\n",
       "      <td>0</td>\n",
       "      <td>39</td>\n",
       "      <td>State-gov</td>\n",
       "      <td>77516</td>\n",
       "      <td>Bachelors</td>\n",
       "      <td>13</td>\n",
       "      <td>Never-married</td>\n",
       "      <td>Adm-clerical</td>\n",
       "      <td>Not-in-family</td>\n",
       "      <td>White</td>\n",
       "      <td>Male</td>\n",
       "      <td>2174</td>\n",
       "      <td>0</td>\n",
       "      <td>40</td>\n",
       "      <td>United-States</td>\n",
       "      <td>0</td>\n",
       "    </tr>\n",
       "  </tbody>\n",
       "</table>\n",
       "</div>"
      ],
      "text/plain": [
       "   age  workclass  fnlwgt  education  education-num marital-status  \\\n",
       "0   39  State-gov   77516  Bachelors             13  Never-married   \n",
       "\n",
       "     occupation   relationship   race   sex  capital-gain  capital-loss  \\\n",
       "0  Adm-clerical  Not-in-family  White  Male          2174             0   \n",
       "\n",
       "   hours-per-week native-country  income  \n",
       "0              40  United-States       0  "
      ]
     },
     "execution_count": 2,
     "metadata": {},
     "output_type": "execute_result"
    }
   ],
   "source": [
    "data = pd.read_csv(\"income_data.csv\",sep=r'\\s*,\\s*', engine='python')\n",
    "data_origin = data\n",
    "for i in range(len(data[\"income\"])):\n",
    "    if data[\"income\"][i] == \"<=50K\":\n",
    "        data.loc[i:i,\"income\"] = 0\n",
    "    else:\n",
    "        data.loc[i:i,\"income\"] = 1\n",
    "data.head(1)"
   ]
  },
  {
   "cell_type": "markdown",
   "metadata": {},
   "source": [
    "## 1. Visualization & Relationship between variables"
   ]
  },
  {
   "cell_type": "code",
   "execution_count": 3,
   "metadata": {},
   "outputs": [],
   "source": [
    "dict_mar_sex_male = {}\n",
    "dict_mar_sex_female = {}\n",
    "for i in list(data[\"marital-status\"].unique()):\n",
    "    dict_mar_sex_male[i + \"_male_num\"] = data[(data[\"sex\"]==\"Male\")& (data[\"marital-status\"]==i)].shape[0]\n",
    "    dict_mar_sex_female[i + \"_female_num\"] = data[(data[\"sex\"]==\"Female\")& (data[\"marital-status\"]==i)].shape[0]"
   ]
  },
  {
   "cell_type": "code",
   "execution_count": 4,
   "metadata": {},
   "outputs": [],
   "source": [
    "sex_mar_male_list = []\n",
    "sex_mar_female_list = []\n",
    "sex_mar_name_list = []\n",
    "for key,value in dict_mar_sex_male.items():\n",
    "    sex_mar_male_list.append(value)\n",
    "    sex_mar_name_list.append(key)\n",
    "for key,value in dict_mar_sex_female.items():\n",
    "    sex_mar_female_list.append(value)"
   ]
  },
  {
   "cell_type": "code",
   "execution_count": 5,
   "metadata": {},
   "outputs": [
    {
     "data": {
      "text/plain": [
       "(0, 18000)"
      ]
     },
     "execution_count": 5,
     "metadata": {},
     "output_type": "execute_result"
    },
    {
     "data": {
      "image/png": "[encoded data removed]",
      "text/plain": [
       "<Figure size 864x432 with 1 Axes>"
      ]
     },
     "metadata": {
      "needs_background": "light"
     },
     "output_type": "display_data"
    }
   ],
   "source": [
    "# Count of marital & sex relationship\n",
    "plt.figure(figsize=(12,6))\n",
    "\n",
    "width = 0.3\n",
    "x_pos = [1,2,3,4,5,6,7]\n",
    "plt.bar(x_pos,sex_mar_male_list,width=0.3)\n",
    "plt.bar([i + width for i in x_pos],sex_mar_female_list,width=0.3)\n",
    "plt.legend(['Male', 'Female'], loc='upper left')\n",
    "plt.xticks([0.25 + i for i in x_pos],list(data[\"marital-status\"].unique()))\n",
    "plt.title(\"Count of marital & sex relationship\")\n",
    "#plt.xlim([0.5,3])\n",
    "plt.ylim([0,18000])"
   ]
  },
  {
   "cell_type": "code",
   "execution_count": 6,
   "metadata": {},
   "outputs": [],
   "source": [
    "hrs_male_median = data[\"hours-per-week\"][(data[\"sex\"]==\"Male\")].median()\n",
    "hrs_female_median = data[\"hours-per-week\"][(data[\"sex\"]==\"Female\")].median()\n",
    "edu_male_median = data[\"education-num\"][(data[\"sex\"]==\"Male\")].median()\n",
    "edu_female_median = data[\"education-num\"][(data[\"sex\"]==\"Female\")].median()\n",
    "\n",
    "viz_male_median = [hrs_male_median,edu_male_median]\n",
    "viz_female_median = [hrs_female_median,edu_female_median]"
   ]
  },
  {
   "cell_type": "code",
   "execution_count": 7,
   "metadata": {},
   "outputs": [],
   "source": [
    "hrs_male_mean = data[\"hours-per-week\"][(data[\"sex\"]==\"Male\")].mean()\n",
    "hrs_female_mean = data[\"hours-per-week\"][(data[\"sex\"]==\"Female\")].mean()\n",
    "edu_male_mean = data[\"education-num\"][(data[\"sex\"]==\"Male\")].mean()\n",
    "edu_female_mean = data[\"education-num\"][(data[\"sex\"]==\"Female\")].mean()\n",
    "income_male_mean = data[(data['sex']==\"Male\")][\"income\"].mean() *100\n",
    "income_female_mean = data[(data['sex']==\"Female\")][\"income\"].mean() * 100\n",
    "viz_male_mean = [hrs_male_mean,edu_male_mean,income_male_mean]\n",
    "viz_female_mean = [hrs_female_mean,edu_female_mean,income_female_mean]"
   ]
  },
  {
   "cell_type": "code",
   "execution_count": 8,
   "metadata": {},
   "outputs": [
    {
     "data": {
      "text/plain": [
       "(0, 60)"
      ]
     },
     "execution_count": 8,
     "metadata": {},
     "output_type": "execute_result"
    },
    {
     "data": {
      "image/png": "[encoded data removed]",
      "text/plain": [
       "<Figure size 432x288 with 1 Axes>"
      ]
     },
     "metadata": {
      "needs_background": "light"
     },
     "output_type": "display_data"
    }
   ],
   "source": [
    "# Mean value comparing between male & female\n",
    "width = 0.15\n",
    "x_pox = [1,2,3]\n",
    "plt.bar(x_pox,viz_male_mean,width=0.15)\n",
    "plt.bar([i + width for i in x_pox],viz_female_mean,width=0.15)\n",
    "plt.legend(['Male', 'Female'], loc='upper left')\n",
    "plt.xticks([1.08,2.08,3.08],['Hours per week','Education num',\"Income_percentage\"])\n",
    "plt.title(\"Average value comparing between Male and Female\")\n",
    "plt.xlim([0.5,3.5])\n",
    "plt.ylim([0,60])"
   ]
  },
  {
   "cell_type": "code",
   "execution_count": 9,
   "metadata": {},
   "outputs": [
    {
     "data": {
      "text/plain": [
       "(0, 60)"
      ]
     },
     "execution_count": 9,
     "metadata": {},
     "output_type": "execute_result"
    },
    {
     "data": {
      "image/png": "[encoded data removed]",
      "text/plain": [
       "<Figure size 432x288 with 1 Axes>"
      ]
     },
     "metadata": {
      "needs_background": "light"
     },
     "output_type": "display_data"
    }
   ],
   "source": [
    "# Median value comparing between male & female\n",
    "\n",
    "width = 0.15\n",
    "x_pox = [1,2]\n",
    "plt.bar(x_pox,viz_male_median,width=0.15)\n",
    "plt.bar([i + width for i in x_pox],viz_female_median,width=0.15)\n",
    "plt.legend(['Male', 'Female'], loc='upper left')\n",
    "plt.xticks([1,2],['Hours per week','Education num'])\n",
    "plt.title(\"Average value comparing between Male and Female\")\n",
    "plt.xlim([0.75,2.5])\n",
    "plt.ylim([0,60])"
   ]
  },
  {
   "cell_type": "code",
   "execution_count": 10,
   "metadata": {},
   "outputs": [],
   "source": [
    "# Value for cap-gain & cap-loss\n",
    "cap_gain_male_mean = data[\"capital-gain\"][(data[\"sex\"]==\"Male\")].mean()\n",
    "cap_gain_female_mean = data[\"capital-gain\"][(data[\"sex\"]==\"Female\")].mean()\n",
    "cap_gain_male_90 = np.quantile(data[\"capital-gain\"][(data[\"sex\"]==\"Male\")],0.95)\n",
    "cap_gain_female_90 = np.quantile(data[\"capital-gain\"][(data[\"sex\"]==\"Female\")],0.95)\n",
    "cap_loss_male_mean = data[\"capital-loss\"][(data[\"sex\"]==\"Male\")].mean()\n",
    "cap_loss_female_mean = data[\"capital-loss\"][(data[\"sex\"]==\"Female\")].mean()\n",
    "cap_loss_male_90 = np.quantile(data[\"capital-loss\"][(data[\"sex\"]==\"Male\")],0.95)\n",
    "cap_loss_female_90 = np.quantile(data[\"capital-loss\"][(data[\"sex\"]==\"Female\")],0.95)\n",
    "\n",
    "viz_gain_male = [cap_gain_male_mean,cap_gain_male_90,cap_loss_male_mean,cap_loss_male_90]\n",
    "viz_gain_female = [cap_gain_female_mean,cap_gain_female_90,cap_loss_female_mean,cap_loss_female_90]"
   ]
  },
  {
   "cell_type": "code",
   "execution_count": 11,
   "metadata": {},
   "outputs": [
    {
     "data": {
      "text/plain": [
       "[1329.3700780174393, 7298.0, 100.21330885727397, 1485.0]"
      ]
     },
     "execution_count": 11,
     "metadata": {},
     "output_type": "execute_result"
    }
   ],
   "source": [
    "viz_gain_male"
   ]
  },
  {
   "cell_type": "code",
   "execution_count": 12,
   "metadata": {},
   "outputs": [
    {
     "data": {
      "text/plain": [
       "Text(0.5, 1.0, 'Capital gain & loss between male and female')"
      ]
     },
     "execution_count": 12,
     "metadata": {},
     "output_type": "execute_result"
    },
    {
     "data": {
      "image/png": "[encoded data removed]",
      "text/plain": [
       "<Figure size 720x432 with 1 Axes>"
      ]
     },
     "metadata": {
      "needs_background": "light"
     },
     "output_type": "display_data"
    }
   ],
   "source": [
    "# 90% quantile is zero\n",
    "plt.figure(figsize=(10,6))\n",
    "width = 0.3\n",
    "x_pox = [1,3,5,7]\n",
    "plt.bar(x_pox,viz_gain_male,width=0.3)\n",
    "plt.bar([i + width for i in x_pox],viz_gain_female,width=0.3)\n",
    "plt.legend(['Male', 'Female'], loc='upper left')\n",
    "plt.xticks([1,3,5,7],['Mean Cap-Gain','95% quantile cap-gain','Mean Cap-Loss','95% quantile Cap-Loss'])\n",
    "plt.title(\"Capital gain & loss between male and female\")\n",
    "#plt.xlim([0.5,3])\n",
    "#plt.ylim([0,1800])"
   ]
  },
  {
   "cell_type": "markdown",
   "metadata": {},
   "source": [
    "## 2. Transform categorical variables"
   ]
  },
  {
   "cell_type": "markdown",
   "metadata": {},
   "source": [
    "### Transform the variable into less-level category to avoid overfitting problem"
   ]
  },
  {
   "cell_type": "code",
   "execution_count": 13,
   "metadata": {},
   "outputs": [
    {
     "data": {
      "text/html": [
       "<div>\n",
       "<style scoped>\n",
       "    .dataframe tbody tr th:only-of-type {\n",
       "        vertical-align: middle;\n",
       "    }\n",
       "\n",
       "    .dataframe tbody tr th {\n",
       "        vertical-align: top;\n",
       "    }\n",
       "\n",
       "    .dataframe thead th {\n",
       "        text-align: right;\n",
       "    }\n",
       "</style>\n",
       "<table border=\"1\" class=\"dataframe\">\n",
       "  <thead>\n",
       "    <tr style=\"text-align: right;\">\n",
       "      <th></th>\n",
       "      <th>age</th>\n",
       "      <th>workclass</th>\n",
       "      <th>fnlwgt</th>\n",
       "      <th>education</th>\n",
       "      <th>education-num</th>\n",
       "      <th>marital-status</th>\n",
       "      <th>occupation</th>\n",
       "      <th>relationship</th>\n",
       "      <th>race</th>\n",
       "      <th>sex</th>\n",
       "      <th>capital-gain</th>\n",
       "      <th>capital-loss</th>\n",
       "      <th>hours-per-week</th>\n",
       "      <th>native-country</th>\n",
       "      <th>income</th>\n",
       "    </tr>\n",
       "  </thead>\n",
       "  <tbody>\n",
       "    <tr>\n",
       "      <td>0</td>\n",
       "      <td>39</td>\n",
       "      <td>State-gov</td>\n",
       "      <td>77516</td>\n",
       "      <td>Bachelors</td>\n",
       "      <td>13</td>\n",
       "      <td>Never-married</td>\n",
       "      <td>Adm-clerical</td>\n",
       "      <td>Not-in-family</td>\n",
       "      <td>White</td>\n",
       "      <td>Male</td>\n",
       "      <td>2174</td>\n",
       "      <td>0</td>\n",
       "      <td>40</td>\n",
       "      <td>United-States</td>\n",
       "      <td>0</td>\n",
       "    </tr>\n",
       "  </tbody>\n",
       "</table>\n",
       "</div>"
      ],
      "text/plain": [
       "   age  workclass  fnlwgt  education  education-num marital-status  \\\n",
       "0   39  State-gov   77516  Bachelors             13  Never-married   \n",
       "\n",
       "     occupation   relationship   race   sex  capital-gain  capital-loss  \\\n",
       "0  Adm-clerical  Not-in-family  White  Male          2174             0   \n",
       "\n",
       "   hours-per-week native-country  income  \n",
       "0              40  United-States       0  "
      ]
     },
     "execution_count": 13,
     "metadata": {},
     "output_type": "execute_result"
    }
   ],
   "source": [
    "data.head(1)"
   ]
  },
  {
   "cell_type": "markdown",
   "metadata": {},
   "source": [
    "### Transform the high-level categorical variables into lower level ones"
   ]
  },
  {
   "cell_type": "code",
   "execution_count": 14,
   "metadata": {},
   "outputs": [],
   "source": [
    "data_transform = data\n",
    "def education_transform(x):\n",
    "    if x in [\"Preschool\",\"1st-4th\",\"5th-6th\",\"7th-8th\"]:\n",
    "        x = \"lower_edu\"\n",
    "    elif x in [\"7th-8th\",\"9th\",\"10th\",\"11th\",\"12th\",\"HS-grad\",\"some-college\"]:\n",
    "        x = \"mid_edu\"\n",
    "    elif x in [\"Bachelors\",\"Doctorate\",\"Prof-school\",\"Assoc-voc\",\"Assoc-acdm\"]:\n",
    "        x = \"high_edu\"\n",
    "    return x\n",
    "data_transform[\"education\"] = data_transform[\"education\"].apply(education_transform)\n",
    "\n",
    "def workclass_transform(x):\n",
    "    if x in [\"?\",\"Without-pay\",\"Never-worked\",\"Self-emp-inc\"]:\n",
    "        x = \"Other\"\n",
    "    elif x in [\"Local-gov\",\"State-gov\",\"Federal-gov\",\"\"]:\n",
    "        x = \"gov\"\n",
    "    return x\n",
    "data_transform[\"workclass\"] = data_transform[\"workclass\"].apply(workclass_transform)\n",
    "\n",
    "def marital_transform(x):\n",
    "    if x in [\"Divorced\",\"Separated\",\"Widowed\"]:\n",
    "        x = \"Separated\"\n",
    "    elif x in [\"Married-civ-spouse\",\"Married-spouse-absent\",\"Married-AF-spouse\"]:\n",
    "        x = \"Married\"\n",
    "    return x\n",
    "data_transform[\"marital-status\"] = data_transform[\"marital-status\"].apply(marital_transform)\n",
    "\n",
    "def occupation_transform(x):\n",
    "    if x in [\"?\",\"Other-service\",\"Armed-Forces\",\"Priv-house-serv\"]:\n",
    "        x = \"Other\"\n",
    "    return x\n",
    "data_transform[\"occupation\"] = data_transform[\"occupation\"].apply(occupation_transform)\n",
    "\n",
    "def country_transform(x):\n",
    "    if x not in [\"United-States\",\"Mexico\"]:\n",
    "        x = \"Other\"\n",
    "    return x\n",
    "data_transform[\"native-country\"] = data_transform[\"native-country\"].apply(country_transform)\n"
   ]
  },
  {
   "cell_type": "markdown",
   "metadata": {},
   "source": [
    "### Transform the categorical variable into indicator variables"
   ]
  },
  {
   "cell_type": "code",
   "execution_count": 15,
   "metadata": {},
   "outputs": [],
   "source": [
    "new_column_transform = []\n",
    "for i in data_transform.columns:\n",
    "    i = i.replace(\"-\",\"_\")\n",
    "    new_column_transform.append(i)\n",
    "data_transform.columns = new_column_transform"
   ]
  },
  {
   "cell_type": "code",
   "execution_count": 16,
   "metadata": {},
   "outputs": [],
   "source": [
    "data_dummy = data_transform"
   ]
  },
  {
   "cell_type": "code",
   "execution_count": 17,
   "metadata": {},
   "outputs": [
    {
     "data": {
      "text/html": [
       "<div>\n",
       "<style scoped>\n",
       "    .dataframe tbody tr th:only-of-type {\n",
       "        vertical-align: middle;\n",
       "    }\n",
       "\n",
       "    .dataframe tbody tr th {\n",
       "        vertical-align: top;\n",
       "    }\n",
       "\n",
       "    .dataframe thead th {\n",
       "        text-align: right;\n",
       "    }\n",
       "</style>\n",
       "<table border=\"1\" class=\"dataframe\">\n",
       "  <thead>\n",
       "    <tr style=\"text-align: right;\">\n",
       "      <th></th>\n",
       "      <th>age</th>\n",
       "      <th>workclass</th>\n",
       "      <th>fnlwgt</th>\n",
       "      <th>education</th>\n",
       "      <th>education_num</th>\n",
       "      <th>marital_status</th>\n",
       "      <th>occupation</th>\n",
       "      <th>relationship</th>\n",
       "      <th>race</th>\n",
       "      <th>sex</th>\n",
       "      <th>capital_gain</th>\n",
       "      <th>capital_loss</th>\n",
       "      <th>hours_per_week</th>\n",
       "      <th>native_country</th>\n",
       "      <th>income</th>\n",
       "    </tr>\n",
       "  </thead>\n",
       "  <tbody>\n",
       "    <tr>\n",
       "      <td>0</td>\n",
       "      <td>39</td>\n",
       "      <td>gov</td>\n",
       "      <td>77516</td>\n",
       "      <td>high_edu</td>\n",
       "      <td>13</td>\n",
       "      <td>Never-married</td>\n",
       "      <td>Adm-clerical</td>\n",
       "      <td>Not-in-family</td>\n",
       "      <td>White</td>\n",
       "      <td>Male</td>\n",
       "      <td>2174</td>\n",
       "      <td>0</td>\n",
       "      <td>40</td>\n",
       "      <td>United-States</td>\n",
       "      <td>0</td>\n",
       "    </tr>\n",
       "  </tbody>\n",
       "</table>\n",
       "</div>"
      ],
      "text/plain": [
       "   age workclass  fnlwgt education  education_num marital_status  \\\n",
       "0   39       gov   77516  high_edu             13  Never-married   \n",
       "\n",
       "     occupation   relationship   race   sex  capital_gain  capital_loss  \\\n",
       "0  Adm-clerical  Not-in-family  White  Male          2174             0   \n",
       "\n",
       "   hours_per_week native_country  income  \n",
       "0              40  United-States       0  "
      ]
     },
     "execution_count": 17,
     "metadata": {},
     "output_type": "execute_result"
    }
   ],
   "source": [
    "data_dummy.head(1)"
   ]
  },
  {
   "cell_type": "code",
   "execution_count": 18,
   "metadata": {},
   "outputs": [],
   "source": [
    "data_dummy = pd.concat([data_dummy,pd.get_dummies(data_transform[\"workclass\"],prefix=\"workclass\")],axis=1)\n",
    "data_dummy = pd.concat([data_dummy,pd.get_dummies(data_transform[\"education\"],prefix=\"education\")],axis=1)\n",
    "data_dummy = pd.concat([data_dummy,pd.get_dummies(data_transform[\"marital_status\"],prefix=\"marital_status\")],axis=1)\n",
    "data_dummy = pd.concat([data_dummy,pd.get_dummies(data_transform[\"occupation\"],prefix=\"occupation\")],axis=1)\n",
    "data_dummy = pd.concat([data_dummy,pd.get_dummies(data_transform[\"relationship\"],prefix=\"relationship\")],axis=1)\n",
    "data_dummy = pd.concat([data_dummy,pd.get_dummies(data_transform[\"race\"],prefix=\"race\")],axis=1)\n",
    "data_dummy = pd.concat([data_dummy,pd.get_dummies(data_transform[\"sex\"],prefix=\"sex\")],axis=1)\n",
    "data_dummy = pd.concat([data_dummy,pd.get_dummies(data_transform[\"native_country\"],prefix=\"native_country\")],axis=1)\n",
    "data_dummy.drop([\"workclass\",\"education\",\"marital_status\", \\\n",
    "                 \"occupation\",\"relationship\",\"race\",\"sex\",\"native_country\"],axis=1,inplace=True)\n"
   ]
  },
  {
   "cell_type": "code",
   "execution_count": 19,
   "metadata": {},
   "outputs": [
    {
     "data": {
      "text/html": [
       "<div>\n",
       "<style scoped>\n",
       "    .dataframe tbody tr th:only-of-type {\n",
       "        vertical-align: middle;\n",
       "    }\n",
       "\n",
       "    .dataframe tbody tr th {\n",
       "        vertical-align: top;\n",
       "    }\n",
       "\n",
       "    .dataframe thead th {\n",
       "        text-align: right;\n",
       "    }\n",
       "</style>\n",
       "<table border=\"1\" class=\"dataframe\">\n",
       "  <thead>\n",
       "    <tr style=\"text-align: right;\">\n",
       "      <th></th>\n",
       "      <th>age</th>\n",
       "      <th>fnlwgt</th>\n",
       "      <th>education_num</th>\n",
       "      <th>capital_gain</th>\n",
       "      <th>capital_loss</th>\n",
       "      <th>hours_per_week</th>\n",
       "      <th>income</th>\n",
       "      <th>workclass_Other</th>\n",
       "      <th>workclass_Private</th>\n",
       "      <th>workclass_Self-emp-not-inc</th>\n",
       "      <th>...</th>\n",
       "      <th>race_Amer-Indian-Eskimo</th>\n",
       "      <th>race_Asian-Pac-Islander</th>\n",
       "      <th>race_Black</th>\n",
       "      <th>race_Other</th>\n",
       "      <th>race_White</th>\n",
       "      <th>sex_Female</th>\n",
       "      <th>sex_Male</th>\n",
       "      <th>native_country_Mexico</th>\n",
       "      <th>native_country_Other</th>\n",
       "      <th>native_country_United-States</th>\n",
       "    </tr>\n",
       "  </thead>\n",
       "  <tbody>\n",
       "    <tr>\n",
       "      <td>0</td>\n",
       "      <td>39</td>\n",
       "      <td>77516</td>\n",
       "      <td>13</td>\n",
       "      <td>2174</td>\n",
       "      <td>0</td>\n",
       "      <td>40</td>\n",
       "      <td>0</td>\n",
       "      <td>0</td>\n",
       "      <td>0</td>\n",
       "      <td>0</td>\n",
       "      <td>...</td>\n",
       "      <td>0</td>\n",
       "      <td>0</td>\n",
       "      <td>0</td>\n",
       "      <td>0</td>\n",
       "      <td>1</td>\n",
       "      <td>0</td>\n",
       "      <td>1</td>\n",
       "      <td>0</td>\n",
       "      <td>0</td>\n",
       "      <td>1</td>\n",
       "    </tr>\n",
       "  </tbody>\n",
       "</table>\n",
       "<p>1 rows × 47 columns</p>\n",
       "</div>"
      ],
      "text/plain": [
       "   age  fnlwgt  education_num  capital_gain  capital_loss  hours_per_week  \\\n",
       "0   39   77516             13          2174             0              40   \n",
       "\n",
       "   income  workclass_Other  workclass_Private  workclass_Self-emp-not-inc  \\\n",
       "0       0                0                  0                           0   \n",
       "\n",
       "   ...  race_Amer-Indian-Eskimo  race_Asian-Pac-Islander  race_Black  \\\n",
       "0  ...                        0                        0           0   \n",
       "\n",
       "   race_Other  race_White  sex_Female  sex_Male  native_country_Mexico  \\\n",
       "0           0           1           0         1                      0   \n",
       "\n",
       "   native_country_Other  native_country_United-States  \n",
       "0                     0                             1  \n",
       "\n",
       "[1 rows x 47 columns]"
      ]
     },
     "execution_count": 19,
     "metadata": {},
     "output_type": "execute_result"
    }
   ],
   "source": [
    "data_dummy.head(1)"
   ]
  },
  {
   "cell_type": "code",
   "execution_count": 20,
   "metadata": {
    "collapsed": true
   },
   "outputs": [
    {
     "ename": "KeyboardInterrupt",
     "evalue": "",
     "output_type": "error",
     "traceback": [
      "\u001b[0;31m---------------------------------------------------------------------------\u001b[0m",
      "\u001b[0;31mKeyboardInterrupt\u001b[0m                         Traceback (most recent call last)",
      "\u001b[0;32m<ipython-input-20-09a4c7fb45ac>\u001b[0m in \u001b[0;36m<module>\u001b[0;34m\u001b[0m\n\u001b[1;32m      2\u001b[0m \u001b[0;32mfor\u001b[0m \u001b[0mi\u001b[0m \u001b[0;32min\u001b[0m \u001b[0mrange\u001b[0m\u001b[0;34m(\u001b[0m\u001b[0mlen\u001b[0m\u001b[0;34m(\u001b[0m\u001b[0mdata_dummy_scale\u001b[0m\u001b[0;34m)\u001b[0m\u001b[0;34m)\u001b[0m\u001b[0;34m:\u001b[0m\u001b[0;34m\u001b[0m\u001b[0;34m\u001b[0m\u001b[0m\n\u001b[1;32m      3\u001b[0m     \u001b[0mdata_dummy_scale\u001b[0m\u001b[0;34m.\u001b[0m\u001b[0mloc\u001b[0m\u001b[0;34m[\u001b[0m\u001b[0mi\u001b[0m\u001b[0;34m:\u001b[0m\u001b[0mi\u001b[0m\u001b[0;34m,\u001b[0m\u001b[0;34m\"age\"\u001b[0m\u001b[0;34m]\u001b[0m \u001b[0;34m=\u001b[0m \u001b[0;34m(\u001b[0m\u001b[0mdata_dummy_scale\u001b[0m\u001b[0;34m.\u001b[0m\u001b[0mloc\u001b[0m\u001b[0;34m[\u001b[0m\u001b[0mi\u001b[0m\u001b[0;34m:\u001b[0m\u001b[0mi\u001b[0m\u001b[0;34m,\u001b[0m\u001b[0;34m\"age\"\u001b[0m\u001b[0;34m]\u001b[0m \u001b[0;34m-\u001b[0m \u001b[0mdata_dummy_scale\u001b[0m\u001b[0;34m[\u001b[0m\u001b[0;34m\"age\"\u001b[0m\u001b[0;34m]\u001b[0m\u001b[0;34m.\u001b[0m\u001b[0mmin\u001b[0m\u001b[0;34m(\u001b[0m\u001b[0;34m)\u001b[0m\u001b[0;34m)\u001b[0m \u001b[0;34m/\u001b[0m\u001b[0;34m(\u001b[0m\u001b[0mdata_dummy_scale\u001b[0m\u001b[0;34m[\u001b[0m\u001b[0;34m\"age\"\u001b[0m\u001b[0;34m]\u001b[0m\u001b[0;34m.\u001b[0m\u001b[0mmax\u001b[0m\u001b[0;34m(\u001b[0m\u001b[0;34m)\u001b[0m\u001b[0;34m-\u001b[0m\u001b[0mdata_dummy_scale\u001b[0m\u001b[0;34m[\u001b[0m\u001b[0;34m\"age\"\u001b[0m\u001b[0;34m]\u001b[0m\u001b[0;34m.\u001b[0m\u001b[0mmin\u001b[0m\u001b[0;34m(\u001b[0m\u001b[0;34m)\u001b[0m\u001b[0;34m)\u001b[0m\u001b[0;34m\u001b[0m\u001b[0;34m\u001b[0m\u001b[0m\n\u001b[0;32m----> 4\u001b[0;31m     \u001b[0mdata_dummy_scale\u001b[0m\u001b[0;34m.\u001b[0m\u001b[0mloc\u001b[0m\u001b[0;34m[\u001b[0m\u001b[0mi\u001b[0m\u001b[0;34m:\u001b[0m\u001b[0mi\u001b[0m\u001b[0;34m,\u001b[0m\u001b[0;34m\"fnlwgt\"\u001b[0m\u001b[0;34m]\u001b[0m \u001b[0;34m=\u001b[0m \u001b[0;34m(\u001b[0m\u001b[0mdata_dummy_scale\u001b[0m\u001b[0;34m.\u001b[0m\u001b[0mloc\u001b[0m\u001b[0;34m[\u001b[0m\u001b[0mi\u001b[0m\u001b[0;34m:\u001b[0m\u001b[0mi\u001b[0m\u001b[0;34m,\u001b[0m\u001b[0;34m\"fnlwgt\"\u001b[0m\u001b[0;34m]\u001b[0m \u001b[0;34m-\u001b[0m \u001b[0mdata_dummy_scale\u001b[0m\u001b[0;34m[\u001b[0m\u001b[0;34m\"fnlwgt\"\u001b[0m\u001b[0;34m]\u001b[0m\u001b[0;34m.\u001b[0m\u001b[0mmin\u001b[0m\u001b[0;34m(\u001b[0m\u001b[0;34m)\u001b[0m\u001b[0;34m)\u001b[0m \u001b[0;34m/\u001b[0m\u001b[0;34m(\u001b[0m\u001b[0mdata_dummy_scale\u001b[0m\u001b[0;34m[\u001b[0m\u001b[0;34m\"fnlwgt\"\u001b[0m\u001b[0;34m]\u001b[0m\u001b[0;34m.\u001b[0m\u001b[0mmax\u001b[0m\u001b[0;34m(\u001b[0m\u001b[0;34m)\u001b[0m\u001b[0;34m-\u001b[0m\u001b[0mdata_dummy_scale\u001b[0m\u001b[0;34m[\u001b[0m\u001b[0;34m\"fnlwgt\"\u001b[0m\u001b[0;34m]\u001b[0m\u001b[0;34m.\u001b[0m\u001b[0mmin\u001b[0m\u001b[0;34m(\u001b[0m\u001b[0;34m)\u001b[0m\u001b[0;34m)\u001b[0m\u001b[0;34m\u001b[0m\u001b[0;34m\u001b[0m\u001b[0m\n\u001b[0m\u001b[1;32m      5\u001b[0m     \u001b[0mdata_dummy_scale\u001b[0m\u001b[0;34m.\u001b[0m\u001b[0mloc\u001b[0m\u001b[0;34m[\u001b[0m\u001b[0mi\u001b[0m\u001b[0;34m:\u001b[0m\u001b[0mi\u001b[0m\u001b[0;34m,\u001b[0m\u001b[0;34m\"capital_gain\"\u001b[0m\u001b[0;34m]\u001b[0m \u001b[0;34m=\u001b[0m \u001b[0;34m(\u001b[0m\u001b[0mdata_dummy_scale\u001b[0m\u001b[0;34m.\u001b[0m\u001b[0mloc\u001b[0m\u001b[0;34m[\u001b[0m\u001b[0mi\u001b[0m\u001b[0;34m:\u001b[0m\u001b[0mi\u001b[0m\u001b[0;34m,\u001b[0m\u001b[0;34m\"capital_gain\"\u001b[0m\u001b[0;34m]\u001b[0m \u001b[0;34m-\u001b[0m \u001b[0mdata_dummy_scale\u001b[0m\u001b[0;34m[\u001b[0m\u001b[0;34m\"capital_gain\"\u001b[0m\u001b[0;34m]\u001b[0m\u001b[0;34m.\u001b[0m\u001b[0mmin\u001b[0m\u001b[0;34m(\u001b[0m\u001b[0;34m)\u001b[0m\u001b[0;34m)\u001b[0m \u001b[0;34m/\u001b[0m\u001b[0;34m(\u001b[0m\u001b[0mdata_dummy_scale\u001b[0m\u001b[0;34m[\u001b[0m\u001b[0;34m\"capital_gain\"\u001b[0m\u001b[0;34m]\u001b[0m\u001b[0;34m.\u001b[0m\u001b[0mmax\u001b[0m\u001b[0;34m(\u001b[0m\u001b[0;34m)\u001b[0m\u001b[0;34m-\u001b[0m\u001b[0mdata_dummy_scale\u001b[0m\u001b[0;34m[\u001b[0m\u001b[0;34m\"capital_gain\"\u001b[0m\u001b[0;34m]\u001b[0m\u001b[0;34m.\u001b[0m\u001b[0mmin\u001b[0m\u001b[0;34m(\u001b[0m\u001b[0;34m)\u001b[0m\u001b[0;34m)\u001b[0m\u001b[0;34m\u001b[0m\u001b[0;34m\u001b[0m\u001b[0m\n\u001b[1;32m      6\u001b[0m     \u001b[0mdata_dummy_scale\u001b[0m\u001b[0;34m.\u001b[0m\u001b[0mloc\u001b[0m\u001b[0;34m[\u001b[0m\u001b[0mi\u001b[0m\u001b[0;34m:\u001b[0m\u001b[0mi\u001b[0m\u001b[0;34m,\u001b[0m\u001b[0;34m\"capital_loss\"\u001b[0m\u001b[0;34m]\u001b[0m \u001b[0;34m=\u001b[0m \u001b[0;34m(\u001b[0m\u001b[0mdata_dummy_scale\u001b[0m\u001b[0;34m.\u001b[0m\u001b[0mloc\u001b[0m\u001b[0;34m[\u001b[0m\u001b[0mi\u001b[0m\u001b[0;34m:\u001b[0m\u001b[0mi\u001b[0m\u001b[0;34m,\u001b[0m\u001b[0;34m\"capital_loss\"\u001b[0m\u001b[0;34m]\u001b[0m \u001b[0;34m-\u001b[0m \u001b[0mdata_dummy_scale\u001b[0m\u001b[0;34m[\u001b[0m\u001b[0;34m\"capital_loss\"\u001b[0m\u001b[0;34m]\u001b[0m\u001b[0;34m.\u001b[0m\u001b[0mmin\u001b[0m\u001b[0;34m(\u001b[0m\u001b[0;34m)\u001b[0m\u001b[0;34m)\u001b[0m \u001b[0;34m/\u001b[0m\u001b[0;34m(\u001b[0m\u001b[0mdata_dummy_scale\u001b[0m\u001b[0;34m[\u001b[0m\u001b[0;34m\"capital_loss\"\u001b[0m\u001b[0;34m]\u001b[0m\u001b[0;34m.\u001b[0m\u001b[0mmax\u001b[0m\u001b[0;34m(\u001b[0m\u001b[0;34m)\u001b[0m\u001b[0;34m-\u001b[0m\u001b[0mdata_dummy_scale\u001b[0m\u001b[0;34m[\u001b[0m\u001b[0;34m\"capital_loss\"\u001b[0m\u001b[0;34m]\u001b[0m\u001b[0;34m.\u001b[0m\u001b[0mmin\u001b[0m\u001b[0;34m(\u001b[0m\u001b[0;34m)\u001b[0m\u001b[0;34m)\u001b[0m\u001b[0;34m\u001b[0m\u001b[0;34m\u001b[0m\u001b[0m\n",
      "\u001b[0;32m~/opt/anaconda3/lib/python3.7/site-packages/pandas/core/ops/__init__.py\u001b[0m in \u001b[0;36mwrapper\u001b[0;34m(left, right)\u001b[0m\n\u001b[1;32m   1048\u001b[0m             \u001b[0mresult\u001b[0m \u001b[0;34m=\u001b[0m \u001b[0mna_op\u001b[0m\u001b[0;34m(\u001b[0m\u001b[0mlvalues\u001b[0m\u001b[0;34m,\u001b[0m \u001b[0mrvalues\u001b[0m\u001b[0;34m)\u001b[0m\u001b[0;34m\u001b[0m\u001b[0;34m\u001b[0m\u001b[0m\n\u001b[1;32m   1049\u001b[0m         return construct_result(\n\u001b[0;32m-> 1050\u001b[0;31m             \u001b[0mleft\u001b[0m\u001b[0;34m,\u001b[0m \u001b[0mresult\u001b[0m\u001b[0;34m,\u001b[0m \u001b[0mindex\u001b[0m\u001b[0;34m=\u001b[0m\u001b[0mleft\u001b[0m\u001b[0;34m.\u001b[0m\u001b[0mindex\u001b[0m\u001b[0;34m,\u001b[0m \u001b[0mname\u001b[0m\u001b[0;34m=\u001b[0m\u001b[0mres_name\u001b[0m\u001b[0;34m,\u001b[0m \u001b[0mdtype\u001b[0m\u001b[0;34m=\u001b[0m\u001b[0;32mNone\u001b[0m\u001b[0;34m\u001b[0m\u001b[0;34m\u001b[0m\u001b[0m\n\u001b[0m\u001b[1;32m   1051\u001b[0m         )\n\u001b[1;32m   1052\u001b[0m \u001b[0;34m\u001b[0m\u001b[0m\n",
      "\u001b[0;32m~/opt/anaconda3/lib/python3.7/site-packages/pandas/core/ops/__init__.py\u001b[0m in \u001b[0;36m_construct_result\u001b[0;34m(left, result, index, name, dtype)\u001b[0m\n\u001b[1;32m    917\u001b[0m     \u001b[0;32mnot\u001b[0m \u001b[0mbe\u001b[0m \u001b[0menough\u001b[0m\u001b[0;34m;\u001b[0m \u001b[0mwe\u001b[0m \u001b[0mstill\u001b[0m \u001b[0mneed\u001b[0m \u001b[0mto\u001b[0m \u001b[0moverride\u001b[0m \u001b[0mthe\u001b[0m \u001b[0mname\u001b[0m \u001b[0mattribute\u001b[0m\u001b[0;34m.\u001b[0m\u001b[0;34m\u001b[0m\u001b[0;34m\u001b[0m\u001b[0m\n\u001b[1;32m    918\u001b[0m     \"\"\"\n\u001b[0;32m--> 919\u001b[0;31m     \u001b[0mout\u001b[0m \u001b[0;34m=\u001b[0m \u001b[0mleft\u001b[0m\u001b[0;34m.\u001b[0m\u001b[0m_constructor\u001b[0m\u001b[0;34m(\u001b[0m\u001b[0mresult\u001b[0m\u001b[0;34m,\u001b[0m \u001b[0mindex\u001b[0m\u001b[0;34m=\u001b[0m\u001b[0mindex\u001b[0m\u001b[0;34m,\u001b[0m \u001b[0mdtype\u001b[0m\u001b[0;34m=\u001b[0m\u001b[0mdtype\u001b[0m\u001b[0;34m)\u001b[0m\u001b[0;34m\u001b[0m\u001b[0;34m\u001b[0m\u001b[0m\n\u001b[0m\u001b[1;32m    920\u001b[0m     \u001b[0mout\u001b[0m \u001b[0;34m=\u001b[0m \u001b[0mout\u001b[0m\u001b[0;34m.\u001b[0m\u001b[0m__finalize__\u001b[0m\u001b[0;34m(\u001b[0m\u001b[0mleft\u001b[0m\u001b[0;34m)\u001b[0m\u001b[0;34m\u001b[0m\u001b[0;34m\u001b[0m\u001b[0m\n\u001b[1;32m    921\u001b[0m     \u001b[0mout\u001b[0m\u001b[0;34m.\u001b[0m\u001b[0mname\u001b[0m \u001b[0;34m=\u001b[0m \u001b[0mname\u001b[0m\u001b[0;34m\u001b[0m\u001b[0;34m\u001b[0m\u001b[0m\n",
      "\u001b[0;32m~/opt/anaconda3/lib/python3.7/site-packages/pandas/core/series.py\u001b[0m in \u001b[0;36m__init__\u001b[0;34m(self, data, index, dtype, name, copy, fastpath)\u001b[0m\n\u001b[1;32m    313\u001b[0m                 \u001b[0mdata\u001b[0m \u001b[0;34m=\u001b[0m \u001b[0mSingleBlockManager\u001b[0m\u001b[0;34m(\u001b[0m\u001b[0mdata\u001b[0m\u001b[0;34m,\u001b[0m \u001b[0mindex\u001b[0m\u001b[0;34m,\u001b[0m \u001b[0mfastpath\u001b[0m\u001b[0;34m=\u001b[0m\u001b[0;32mTrue\u001b[0m\u001b[0;34m)\u001b[0m\u001b[0;34m\u001b[0m\u001b[0;34m\u001b[0m\u001b[0m\n\u001b[1;32m    314\u001b[0m \u001b[0;34m\u001b[0m\u001b[0m\n\u001b[0;32m--> 315\u001b[0;31m         \u001b[0mgeneric\u001b[0m\u001b[0;34m.\u001b[0m\u001b[0mNDFrame\u001b[0m\u001b[0;34m.\u001b[0m\u001b[0m__init__\u001b[0m\u001b[0;34m(\u001b[0m\u001b[0mself\u001b[0m\u001b[0;34m,\u001b[0m \u001b[0mdata\u001b[0m\u001b[0;34m,\u001b[0m \u001b[0mfastpath\u001b[0m\u001b[0;34m=\u001b[0m\u001b[0;32mTrue\u001b[0m\u001b[0;34m)\u001b[0m\u001b[0;34m\u001b[0m\u001b[0;34m\u001b[0m\u001b[0m\n\u001b[0m\u001b[1;32m    316\u001b[0m \u001b[0;34m\u001b[0m\u001b[0m\n\u001b[1;32m    317\u001b[0m         \u001b[0mself\u001b[0m\u001b[0;34m.\u001b[0m\u001b[0mname\u001b[0m \u001b[0;34m=\u001b[0m \u001b[0mname\u001b[0m\u001b[0;34m\u001b[0m\u001b[0;34m\u001b[0m\u001b[0m\n",
      "\u001b[0;32m~/opt/anaconda3/lib/python3.7/site-packages/pandas/core/generic.py\u001b[0m in \u001b[0;36m__init__\u001b[0;34m(self, data, axes, copy, dtype, fastpath)\u001b[0m\n\u001b[1;32m    180\u001b[0m \u001b[0;34m\u001b[0m\u001b[0m\n\u001b[1;32m    181\u001b[0m         \u001b[0mobject\u001b[0m\u001b[0;34m.\u001b[0m\u001b[0m__setattr__\u001b[0m\u001b[0;34m(\u001b[0m\u001b[0mself\u001b[0m\u001b[0;34m,\u001b[0m \u001b[0;34m\"_is_copy\"\u001b[0m\u001b[0;34m,\u001b[0m \u001b[0;32mNone\u001b[0m\u001b[0;34m)\u001b[0m\u001b[0;34m\u001b[0m\u001b[0;34m\u001b[0m\u001b[0m\n\u001b[0;32m--> 182\u001b[0;31m         \u001b[0mobject\u001b[0m\u001b[0;34m.\u001b[0m\u001b[0m__setattr__\u001b[0m\u001b[0;34m(\u001b[0m\u001b[0mself\u001b[0m\u001b[0;34m,\u001b[0m \u001b[0;34m\"_data\"\u001b[0m\u001b[0;34m,\u001b[0m \u001b[0mdata\u001b[0m\u001b[0;34m)\u001b[0m\u001b[0;34m\u001b[0m\u001b[0;34m\u001b[0m\u001b[0m\n\u001b[0m\u001b[1;32m    183\u001b[0m         \u001b[0mobject\u001b[0m\u001b[0;34m.\u001b[0m\u001b[0m__setattr__\u001b[0m\u001b[0;34m(\u001b[0m\u001b[0mself\u001b[0m\u001b[0;34m,\u001b[0m \u001b[0;34m\"_item_cache\"\u001b[0m\u001b[0;34m,\u001b[0m \u001b[0;34m{\u001b[0m\u001b[0;34m}\u001b[0m\u001b[0;34m)\u001b[0m\u001b[0;34m\u001b[0m\u001b[0;34m\u001b[0m\u001b[0m\n\u001b[1;32m    184\u001b[0m \u001b[0;34m\u001b[0m\u001b[0m\n",
      "\u001b[0;31mKeyboardInterrupt\u001b[0m: "
     ]
    }
   ],
   "source": [
    "data_dummy_scale = data_dummy\n",
    "for i in range(len(data_dummy_scale)):\n",
    "    data_dummy_scale.loc[i:i,\"age\"] = (data_dummy_scale.loc[i:i,\"age\"] - data_dummy_scale[\"age\"].min()) /(data_dummy_scale[\"age\"].max()-data_dummy_scale[\"age\"].min())\n",
    "    data_dummy_scale.loc[i:i,\"fnlwgt\"] = (data_dummy_scale.loc[i:i,\"fnlwgt\"] - data_dummy_scale[\"fnlwgt\"].min()) /(data_dummy_scale[\"fnlwgt\"].max()-data_dummy_scale[\"fnlwgt\"].min())\n",
    "    data_dummy_scale.loc[i:i,\"capital_gain\"] = (data_dummy_scale.loc[i:i,\"capital_gain\"] - data_dummy_scale[\"capital_gain\"].min()) /(data_dummy_scale[\"capital_gain\"].max()-data_dummy_scale[\"capital_gain\"].min())\n",
    "    data_dummy_scale.loc[i:i,\"capital_loss\"] = (data_dummy_scale.loc[i:i,\"capital_loss\"] - data_dummy_scale[\"capital_loss\"].min()) /(data_dummy_scale[\"capital_loss\"].max()-data_dummy_scale[\"capital_loss\"].min())\n",
    "    data_dummy_scale.loc[i:i,\"education_num\"] = (data_dummy_scale.loc[i:i,\"education_num\"] - data_dummy_scale[\"education_num\"].min()) /(data_dummy_scale[\"education_num\"].max()-data_dummy_scale[\"education_num\"].min())\n",
    "    "
   ]
  },
  {
   "cell_type": "markdown",
   "metadata": {},
   "source": [
    "## 3. Eliminate the variables"
   ]
  },
  {
   "cell_type": "markdown",
   "metadata": {},
   "source": [
    "### Use RFE to eliminate the variables"
   ]
  },
  {
   "cell_type": "code",
   "execution_count": 21,
   "metadata": {},
   "outputs": [
    {
     "data": {
      "text/html": [
       "<div>\n",
       "<style scoped>\n",
       "    .dataframe tbody tr th:only-of-type {\n",
       "        vertical-align: middle;\n",
       "    }\n",
       "\n",
       "    .dataframe tbody tr th {\n",
       "        vertical-align: top;\n",
       "    }\n",
       "\n",
       "    .dataframe thead th {\n",
       "        text-align: right;\n",
       "    }\n",
       "</style>\n",
       "<table border=\"1\" class=\"dataframe\">\n",
       "  <thead>\n",
       "    <tr style=\"text-align: right;\">\n",
       "      <th></th>\n",
       "      <th>age</th>\n",
       "      <th>workclass</th>\n",
       "      <th>fnlwgt</th>\n",
       "      <th>education</th>\n",
       "      <th>education_num</th>\n",
       "      <th>marital_status</th>\n",
       "      <th>occupation</th>\n",
       "      <th>relationship</th>\n",
       "      <th>race</th>\n",
       "      <th>sex</th>\n",
       "      <th>capital_gain</th>\n",
       "      <th>capital_loss</th>\n",
       "      <th>hours_per_week</th>\n",
       "      <th>native_country</th>\n",
       "      <th>income</th>\n",
       "    </tr>\n",
       "  </thead>\n",
       "  <tbody>\n",
       "    <tr>\n",
       "      <td>0</td>\n",
       "      <td>22</td>\n",
       "      <td>3</td>\n",
       "      <td>2671</td>\n",
       "      <td>2</td>\n",
       "      <td>12</td>\n",
       "      <td>1</td>\n",
       "      <td>0</td>\n",
       "      <td>1</td>\n",
       "      <td>4</td>\n",
       "      <td>1</td>\n",
       "      <td>25</td>\n",
       "      <td>0</td>\n",
       "      <td>39</td>\n",
       "      <td>2</td>\n",
       "      <td>0</td>\n",
       "    </tr>\n",
       "    <tr>\n",
       "      <td>1</td>\n",
       "      <td>33</td>\n",
       "      <td>2</td>\n",
       "      <td>2926</td>\n",
       "      <td>2</td>\n",
       "      <td>12</td>\n",
       "      <td>0</td>\n",
       "      <td>2</td>\n",
       "      <td>0</td>\n",
       "      <td>4</td>\n",
       "      <td>1</td>\n",
       "      <td>0</td>\n",
       "      <td>0</td>\n",
       "      <td>12</td>\n",
       "      <td>2</td>\n",
       "      <td>0</td>\n",
       "    </tr>\n",
       "    <tr>\n",
       "      <td>2</td>\n",
       "      <td>21</td>\n",
       "      <td>1</td>\n",
       "      <td>14086</td>\n",
       "      <td>4</td>\n",
       "      <td>8</td>\n",
       "      <td>2</td>\n",
       "      <td>4</td>\n",
       "      <td>1</td>\n",
       "      <td>4</td>\n",
       "      <td>1</td>\n",
       "      <td>0</td>\n",
       "      <td>0</td>\n",
       "      <td>39</td>\n",
       "      <td>2</td>\n",
       "      <td>0</td>\n",
       "    </tr>\n",
       "    <tr>\n",
       "      <td>3</td>\n",
       "      <td>36</td>\n",
       "      <td>1</td>\n",
       "      <td>15336</td>\n",
       "      <td>4</td>\n",
       "      <td>6</td>\n",
       "      <td>0</td>\n",
       "      <td>4</td>\n",
       "      <td>0</td>\n",
       "      <td>2</td>\n",
       "      <td>1</td>\n",
       "      <td>0</td>\n",
       "      <td>0</td>\n",
       "      <td>39</td>\n",
       "      <td>2</td>\n",
       "      <td>0</td>\n",
       "    </tr>\n",
       "    <tr>\n",
       "      <td>4</td>\n",
       "      <td>11</td>\n",
       "      <td>1</td>\n",
       "      <td>19355</td>\n",
       "      <td>2</td>\n",
       "      <td>12</td>\n",
       "      <td>0</td>\n",
       "      <td>7</td>\n",
       "      <td>5</td>\n",
       "      <td>2</td>\n",
       "      <td>0</td>\n",
       "      <td>0</td>\n",
       "      <td>0</td>\n",
       "      <td>39</td>\n",
       "      <td>1</td>\n",
       "      <td>0</td>\n",
       "    </tr>\n",
       "  </tbody>\n",
       "</table>\n",
       "</div>"
      ],
      "text/plain": [
       "   age  workclass  fnlwgt  education  education_num  marital_status  \\\n",
       "0   22          3    2671          2             12               1   \n",
       "1   33          2    2926          2             12               0   \n",
       "2   21          1   14086          4              8               2   \n",
       "3   36          1   15336          4              6               0   \n",
       "4   11          1   19355          2             12               0   \n",
       "\n",
       "   occupation  relationship  race  sex  capital_gain  capital_loss  \\\n",
       "0           0             1     4    1            25             0   \n",
       "1           2             0     4    1             0             0   \n",
       "2           4             1     4    1             0             0   \n",
       "3           4             0     2    1             0             0   \n",
       "4           7             5     2    0             0             0   \n",
       "\n",
       "   hours_per_week  native_country  income  \n",
       "0              39               2       0  \n",
       "1              12               2       0  \n",
       "2              39               2       0  \n",
       "3              39               2       0  \n",
       "4              39               1       0  "
      ]
     },
     "execution_count": 21,
     "metadata": {},
     "output_type": "execute_result"
    }
   ],
   "source": [
    "factors = data_transform.columns\n",
    "data_factor = data_transform.copy()\n",
    "mapping_levels = []\n",
    "for factor in factors:\n",
    "    data_factor[factor] = data_factor[factor].factorize(sort = True)[0]\n",
    "    mapping_levels.append(data_factor[factor].factorize(sort = True)[1])\n",
    "data_factor.head()"
   ]
  },
  {
   "cell_type": "code",
   "execution_count": null,
   "metadata": {},
   "outputs": [],
   "source": [
    "data_factor_scale = data_factor\n",
    "for i in range(len(data_factor_scale)):\n",
    "    data_factor_scale.loc[i:i,\"age\"] = (data_factor_scale.loc[i:i,\"age\"] - data_factor_scale[\"age\"].min()) /(data_factor_scale[\"age\"].max()-data_factor_scale[\"age\"].min())\n",
    "    data_factor_scale.loc[i:i,\"fnlwgt\"] = (data_factor_scale.loc[i:i,\"fnlwgt\"] - data_factor_scale[\"fnlwgt\"].min()) /(data_factor_scale[\"fnlwgt\"].max()-data_factor_scale[\"fnlwgt\"].min())\n",
    "    data_factor_scale.loc[i:i,\"capital_gain\"] = (data_factor_scale.loc[i:i,\"capital_gain\"] - data_factor_scale[\"capital_gain\"].min()) /(data_factor_scale[\"capital_gain\"].max()-data_factor_scale[\"capital_gain\"].min())\n",
    "    data_factor_scale.loc[i:i,\"capital_loss\"] = (data_factor_scale.loc[i:i,\"capital_loss\"] - data_factor_scale[\"capital_loss\"].min()) /(data_factor_scale[\"capital_loss\"].max()-data_factor_scale[\"capital_loss\"].min())\n",
    "    data_factor_scale.loc[i:i,\"education_num\"] = (data_factor_scale.loc[i:i,\"education_num\"] - data_factor_scale[\"education_num\"].min()) /(data_factor_scale[\"education_num\"].max()-data_factor_scale[\"education_num\"].min())\n",
    "\n",
    "data_factor_scale.info()"
   ]
  },
  {
   "cell_type": "code",
   "execution_count": null,
   "metadata": {},
   "outputs": [],
   "source": [
    "# Generate a custom diverging colormap\n",
    "cmap = sns.diverging_palette(220, 10, as_cmap=True)\n",
    "\n",
    "# Draw the heatmap with the mask and correct aspect ratio\n",
    "sns.heatmap(data_factor.corr(), cmap=cmap, vmax=.3, center=0,\n",
    "            square=True, linewidths=.5, cbar_kws={\"shrink\": .5})"
   ]
  },
  {
   "cell_type": "code",
   "execution_count": null,
   "metadata": {},
   "outputs": [],
   "source": [
    "cols_3_x = [i for i in data_factor.columns if i not in [\"income\"]]\n",
    "data_3_x = data_factor[cols_3_x]\n",
    "data_3_y = data_factor.loc[:,\"income\"]\n",
    "from sklearn.model_selection import train_test_split\n",
    "\n",
    "train_x_3,test_x_3,train_y_3,test_y_3 \\\n",
    "= train_test_split(data_3_x,data_3_y,test_size=0.3)"
   ]
  },
  {
   "cell_type": "code",
   "execution_count": null,
   "metadata": {},
   "outputs": [],
   "source": [
    "from sklearn.linear_model import LogisticRegression\n",
    "from sklearn.feature_selection import RFE\n",
    "\n",
    "rfe_performance = {}\n",
    "logreg = LogisticRegression()\n",
    "for i in [3,4,5,6,7,8,9,10,11,12,13]:\n",
    "    rfe_model =RFE(logreg,i,1)\n",
    "    rfe_model.fit(train_x_3, train_y_3)\n",
    "    rfe_performance[i] = rfe_model.score(test_x_3,test_y_3)"
   ]
  },
  {
   "cell_type": "code",
   "execution_count": null,
   "metadata": {},
   "outputs": [],
   "source": [
    "rfe_performance"
   ]
  },
  {
   "cell_type": "code",
   "execution_count": null,
   "metadata": {},
   "outputs": [],
   "source": [
    "featureNo = []\n",
    "RFE_accuracy = []\n",
    "\n",
    "for key,value in rfe_performance.items():\n",
    "    RFE_accuracy.append(value)\n",
    "    featureNo.append(key)\n",
    "    \n",
    "plt.figure(figsize=(12,6))\n",
    "\n",
    "plt.bar(featureNo,RFE_accuracy,width=0.3)"
   ]
  },
  {
   "cell_type": "code",
   "execution_count": null,
   "metadata": {},
   "outputs": [],
   "source": [
    "logreg = LogisticRegression()\n",
    "rfe_model_final = RFE(logreg, 7, 1)\n",
    "rfe_model_final = rfe_model_final.fit(train_x_3, train_y_3)\n",
    "data_featureEliminated = data_3_x.loc[:,rfe_model_final.support_]\n",
    "data_featureEliminated"
   ]
  },
  {
   "cell_type": "markdown",
   "metadata": {},
   "source": [
    "## 4. Fit a regression model to predict whether income of an individual is more than 50k.\n",
    "### Use logistic regression"
   ]
  },
  {
   "cell_type": "code",
   "execution_count": null,
   "metadata": {},
   "outputs": [],
   "source": [
    "data_4 = data_dummy_scale"
   ]
  },
  {
   "cell_type": "code",
   "execution_count": null,
   "metadata": {},
   "outputs": [],
   "source": [
    "data_4.head(1)"
   ]
  },
  {
   "cell_type": "code",
   "execution_count": null,
   "metadata": {},
   "outputs": [],
   "source": [
    "cols_x = [i for i in data_4.columns if i not in [\"income\"]]\n",
    "data_4_x = data_4[cols_x]\n",
    "data_4_y = data_4.loc[:,\"income\"]"
   ]
  },
  {
   "cell_type": "markdown",
   "metadata": {},
   "source": [
    "### Split train & test dataset"
   ]
  },
  {
   "cell_type": "code",
   "execution_count": null,
   "metadata": {},
   "outputs": [],
   "source": [
    "from sklearn.model_selection import train_test_split\n",
    "train_x_4,test_x_4,train_y_4,test_y_4 = train_test_split(data_4_x,data_4_y,test_size=0.3)"
   ]
  },
  {
   "cell_type": "markdown",
   "metadata": {},
   "source": [
    "### Build Logistic Regression Model With All Features"
   ]
  },
  {
   "cell_type": "code",
   "execution_count": null,
   "metadata": {},
   "outputs": [],
   "source": [
    "from sklearn.linear_model import LogisticRegression\n",
    "log_model_4 = LogisticRegression()\n",
    "log_model_4.fit(train_x_4,train_y_4)\n",
    "log_model_4.score(test_x_4,test_y_4)"
   ]
  },
  {
   "cell_type": "code",
   "execution_count": null,
   "metadata": {},
   "outputs": [],
   "source": [
    "from sklearn.metrics import confusion_matrix\n",
    "tn, fp, fn, tp = confusion_matrix(test_y_4,log_model_4.predict(test_x_4)).ravel()\n",
    "(tn, fp, fn, tp)"
   ]
  },
  {
   "cell_type": "code",
   "execution_count": null,
   "metadata": {},
   "outputs": [],
   "source": [
    "# precision:\n",
    "tp/(tp+fp)"
   ]
  },
  {
   "cell_type": "code",
   "execution_count": null,
   "metadata": {},
   "outputs": [],
   "source": [
    "from sklearn.metrics import roc_curve\n",
    "roc_curve(test_y_4,log_model_4.predict(test_x_4))"
   ]
  },
  {
   "cell_type": "markdown",
   "metadata": {},
   "source": [
    "### Build Logistic Regression Model After RFE"
   ]
  },
  {
   "cell_type": "code",
   "execution_count": null,
   "metadata": {},
   "outputs": [],
   "source": [
    "data_4_xe = data_featureEliminated\n",
    "data_4_ye = data_4.loc[:,\"income\"]"
   ]
  },
  {
   "cell_type": "code",
   "execution_count": null,
   "metadata": {},
   "outputs": [],
   "source": [
    "from sklearn.model_selection import train_test_split\n",
    "train_x_4e,test_x_4e,train_y_4e,test_y_4e = train_test_split(data_4_xe,data_4_ye,test_size=0.3)"
   ]
  },
  {
   "cell_type": "code",
   "execution_count": null,
   "metadata": {},
   "outputs": [],
   "source": [
    "from sklearn.linear_model import LogisticRegression\n",
    "log_model_4e = LogisticRegression()\n",
    "log_model_4e.fit(train_x_4e,train_y_4e)\n",
    "log_model_4e.score(test_x_4e,test_y_4e)"
   ]
  },
  {
   "cell_type": "code",
   "execution_count": null,
   "metadata": {},
   "outputs": [],
   "source": [
    "tn_e, fp_e, fn_e, tp_e = confusion_matrix(test_y_4e,log_model_4e.predict(test_x_4e)).ravel()\n",
    "(tn_e, fp_e, fn_e, tp_e)"
   ]
  },
  {
   "cell_type": "code",
   "execution_count": null,
   "metadata": {},
   "outputs": [],
   "source": [
    "# precision:\n",
    "tp_e/(tp_e+fp_e)"
   ]
  },
  {
   "cell_type": "markdown",
   "metadata": {},
   "source": [
    "## 5. Use the income dataset to regress work hours on the rest of the data."
   ]
  },
  {
   "cell_type": "code",
   "execution_count": null,
   "metadata": {},
   "outputs": [],
   "source": [
    "data_5 = data_dummy_scale"
   ]
  },
  {
   "cell_type": "code",
   "execution_count": null,
   "metadata": {},
   "outputs": [],
   "source": [
    "data_5.head(1)"
   ]
  },
  {
   "cell_type": "code",
   "execution_count": null,
   "metadata": {},
   "outputs": [],
   "source": [
    "cols_x = [i for i in data_5.columns if i not in [\"hours_per_week\"]]\n",
    "data_5_x = data_5[cols_x]\n",
    "data_5_y = data_5.loc[:,\"hours_per_week\"]"
   ]
  },
  {
   "cell_type": "code",
   "execution_count": null,
   "metadata": {},
   "outputs": [],
   "source": [
    "train_x_5,test_x_5,train_y_5,test_y_5 = train_test_split(data_5_x,data_5_y,test_size=0.3)"
   ]
  },
  {
   "cell_type": "code",
   "execution_count": null,
   "metadata": {},
   "outputs": [],
   "source": [
    "from sklearn.linear_model import LinearRegression\n",
    "reg_model_5 = LinearRegression()\n",
    "reg_model_5.fit(train_x_5,train_y_5)\n",
    "reg_model_5.score(test_x_5,test_y_5)"
   ]
  },
  {
   "cell_type": "markdown",
   "metadata": {},
   "source": [
    "### Check the significance of parameters"
   ]
  },
  {
   "cell_type": "code",
   "execution_count": null,
   "metadata": {},
   "outputs": [],
   "source": [
    "import statsmodels.api as sm\n",
    "# data_5_x_2 = sm.add_constant(data_5_x)\n",
    "est = sm.OLS(data_5_y, data_5_x)\n",
    "est2 = est.fit()\n",
    "print(est2.summary())"
   ]
  },
  {
   "cell_type": "markdown",
   "metadata": {},
   "source": [
    "### Fit the model with significant variables only"
   ]
  },
  {
   "cell_type": "markdown",
   "metadata": {},
   "source": [
    "### Deleting only one level of dummy variable"
   ]
  },
  {
   "cell_type": "code",
   "execution_count": null,
   "metadata": {},
   "outputs": [],
   "source": [
    "cols_x_sig = [i for i in data_5_x.columns if i not in [\"education_Masters\", \\\n",
    "        \"education_Some_college\",\"education_high_edu\",\"occupation_Adm_clerical\",\"occupation_Handlers_cleaners\"]]\n",
    "data_5_x_sig = data_5_x[cols_x_sig]\n",
    "data_5_y_sig = data_5_y"
   ]
  },
  {
   "cell_type": "code",
   "execution_count": null,
   "metadata": {},
   "outputs": [],
   "source": [
    "train_x_5_sig,test_x_5_sig,train_y_5_sig,test_y_5_sig \\\n",
    "= train_test_split(data_5_x_sig,data_5_y_sig,test_size=0.3)"
   ]
  },
  {
   "cell_type": "code",
   "execution_count": null,
   "metadata": {},
   "outputs": [],
   "source": [
    "reg_model_5_sig = LinearRegression()\n",
    "reg_model_5_sig.fit(train_x_5_sig,train_y_5_sig)\n",
    "reg_model_5_sig.score(test_x_5_sig,test_y_5_sig)"
   ]
  },
  {
   "cell_type": "markdown",
   "metadata": {},
   "source": [
    "### Deleting the whole dummy variable"
   ]
  },
  {
   "cell_type": "code",
   "execution_count": null,
   "metadata": {},
   "outputs": [],
   "source": [
    "data_transform.head(1)"
   ]
  },
  {
   "cell_type": "code",
   "execution_count": null,
   "metadata": {},
   "outputs": [],
   "source": [
    "cols_x_sig = [i for i in data_transform.columns if i not in [\"hours_per_week\",\"education\",\"occupation\"]]\n",
    "data_5_x_sig_trans = data_transform[cols_x_sig]\n",
    "data_5_y_sig = data_transform.loc[:,\"hours_per_week\"]"
   ]
  },
  {
   "cell_type": "code",
   "execution_count": null,
   "metadata": {},
   "outputs": [],
   "source": [
    "data_5_x_sig = pd.concat([data_5_x_sig_trans,pd.get_dummies(data_5_x_sig_trans[\"workclass\"],prefix=\"workclass\")],axis=1)\n",
    "data_5_x_sig = pd.concat([data_5_x_sig,pd.get_dummies(data_5_x_sig[\"marital_status\"],prefix=\"marital_status\")],axis=1)\n",
    "data_5_x_sig = pd.concat([data_5_x_sig,pd.get_dummies(data_5_x_sig[\"relationship\"],prefix=\"relationship\")],axis=1)\n",
    "data_5_x_sig = pd.concat([data_5_x_sig,pd.get_dummies(data_5_x_sig[\"race\"],prefix=\"race\")],axis=1)\n",
    "data_5_x_sig = pd.concat([data_5_x_sig,pd.get_dummies(data_5_x_sig[\"sex\"],prefix=\"sex\")],axis=1)\n",
    "data_5_x_sig = pd.concat([data_5_x_sig,pd.get_dummies(data_5_x_sig[\"native_country\"],prefix=\"native_country\")],axis=1)\n",
    "\n",
    "data_5_x_sig.drop([\"workclass\",\"marital_status\",\"relationship\", \\\n",
    "                   \"race\",\"sex\",\"native_country\"],axis=1,inplace=True)\n"
   ]
  },
  {
   "cell_type": "code",
   "execution_count": null,
   "metadata": {},
   "outputs": [],
   "source": [
    "train_x_5_sig,test_x_5_sig,train_y_5_sig,test_y_5_sig \\\n",
    "= train_test_split(data_5_x_sig,data_5_y_sig,test_size=0.3)"
   ]
  },
  {
   "cell_type": "code",
   "execution_count": null,
   "metadata": {},
   "outputs": [],
   "source": [
    "reg_model_5_sig = LinearRegression()\n",
    "reg_model_5_sig.fit(train_x_5_sig,train_y_5_sig)\n",
    "reg_model_5_sig.score(test_x_5_sig,test_y_5_sig)"
   ]
  },
  {
   "cell_type": "markdown",
   "metadata": {},
   "source": [
    "### Exploring interaction terms"
   ]
  },
  {
   "cell_type": "code",
   "execution_count": null,
   "metadata": {},
   "outputs": [],
   "source": [
    "import statsmodels.formula.api as smf"
   ]
  },
  {
   "cell_type": "code",
   "execution_count": null,
   "metadata": {},
   "outputs": [],
   "source": [
    "data_interaction = data_factor"
   ]
  },
  {
   "cell_type": "code",
   "execution_count": null,
   "metadata": {},
   "outputs": [],
   "source": [
    "data_interaction.columns"
   ]
  },
  {
   "cell_type": "code",
   "execution_count": null,
   "metadata": {},
   "outputs": [],
   "source": [
    "sns.pairplot(data_interaction, vars=[\"age\",\"income\",\"education\"],kind='reg')  "
   ]
  },
  {
   "cell_type": "code",
   "execution_count": null,
   "metadata": {},
   "outputs": [],
   "source": [
    "sns.lmplot(y='hours_per_week', x='age', hue='education', data=data_interaction)"
   ]
  },
  {
   "cell_type": "code",
   "execution_count": null,
   "metadata": {},
   "outputs": [],
   "source": [
    "sns.lmplot(y='hours_per_week', x='income', hue='education', data=data_interaction)"
   ]
  },
  {
   "cell_type": "code",
   "execution_count": null,
   "metadata": {},
   "outputs": [],
   "source": [
    "sns.lmplot(y='hours_per_week', x='age', hue='income', data=data_interaction)"
   ]
  },
  {
   "cell_type": "code",
   "execution_count": null,
   "metadata": {},
   "outputs": [],
   "source": [
    "list_column =  [i for i in data_interaction.columns if i not in [\"hours_per_week\"]]\n",
    "str_column = \"\"\n",
    "for i in list_column:\n",
    "    str_column = i +\" + \" + str_column"
   ]
  },
  {
   "cell_type": "code",
   "execution_count": null,
   "metadata": {},
   "outputs": [],
   "source": [
    "str_column"
   ]
  },
  {
   "cell_type": "code",
   "execution_count": null,
   "metadata": {},
   "outputs": [],
   "source": [
    "reg_model_interaction_5 = smf.ols(formula = \"hours_per_week ~income:age + age:education+income:education+ income + native_country + capital_loss + capital_gain + sex + race + relationship + occupation + marital_status + education_num + education + fnlwgt + workclass + age \",data=data_interaction).fit()\n"
   ]
  },
  {
   "cell_type": "code",
   "execution_count": null,
   "metadata": {},
   "outputs": [],
   "source": [
    "summary = reg_model_interaction_5.summary()\n",
    "summary.tables[1]"
   ]
  },
  {
   "cell_type": "code",
   "execution_count": null,
   "metadata": {},
   "outputs": [],
   "source": [
    "data_5.head(1)"
   ]
  },
  {
   "cell_type": "markdown",
   "metadata": {},
   "source": [
    "## 6.Regress work hours of only people who are working in Sales."
   ]
  },
  {
   "cell_type": "code",
   "execution_count": null,
   "metadata": {},
   "outputs": [],
   "source": [
    "data_6 = data_transform[data_transform[\"occupation\"]==\"Sales\"]\n",
    "data_6.reset_index(inplace=True)"
   ]
  },
  {
   "cell_type": "code",
   "execution_count": null,
   "metadata": {},
   "outputs": [],
   "source": [
    "data_6.head(1)"
   ]
  },
  {
   "cell_type": "code",
   "execution_count": null,
   "metadata": {},
   "outputs": [],
   "source": [
    "data_6_dummy = pd.concat([data_6,pd.get_dummies(data_6[\"workclass\"],prefix=\"workclass\")],axis=1)\n",
    "data_6_dummy = pd.concat([data_6_dummy,pd.get_dummies(data_6_dummy[\"marital_status\"],prefix=\"marital_status\")],axis=1)\n",
    "data_6_dummy = pd.concat([data_6_dummy,pd.get_dummies(data_6_dummy[\"relationship\"],prefix=\"relationship\")],axis=1)\n",
    "data_6_dummy = pd.concat([data_6_dummy,pd.get_dummies(data_6_dummy[\"race\"],prefix=\"race\")],axis=1)\n",
    "data_6_dummy = pd.concat([data_6_dummy,pd.get_dummies(data_6_dummy[\"sex\"],prefix=\"sex\")],axis=1)\n",
    "data_6_dummy = pd.concat([data_6_dummy,pd.get_dummies(data_6_dummy[\"native_country\"],prefix=\"native_country\")],axis=1)\n",
    "data_6_dummy = pd.concat([data_6_dummy,pd.get_dummies(data_6_dummy[\"education\"],prefix=\"education\")],axis=1)\n",
    "\n",
    "data_6_dummy.drop([\"workclass\",\"marital_status\",\"relationship\", \\\n",
    "                   \"race\",\"sex\",\"native_country\",\"education\",\"occupation\"],axis=1,inplace=True)\n"
   ]
  },
  {
   "cell_type": "code",
   "execution_count": null,
   "metadata": {},
   "outputs": [],
   "source": [
    "cols_x_6 = [i for i in data_6_dummy.columns if i not in [\"hours_per_week\"]]\n",
    "data_6_x = data_6_dummy[cols_x_6]\n",
    "data_6_y = data_6_dummy.loc[:,\"hours_per_week\"]"
   ]
  },
  {
   "cell_type": "code",
   "execution_count": null,
   "metadata": {},
   "outputs": [],
   "source": [
    "train_x_6,test_x_6,train_y_6,test_y_6 \\\n",
    "= train_test_split(data_6_x,data_6_y,test_size=0.3)"
   ]
  },
  {
   "cell_type": "code",
   "execution_count": null,
   "metadata": {},
   "outputs": [],
   "source": [
    "reg_model_6 = LinearRegression()\n",
    "reg_model_6.fit(train_x_6,train_y_6)\n",
    "reg_model_6.score(test_x_6,test_y_6)"
   ]
  },
  {
   "cell_type": "markdown",
   "metadata": {},
   "source": [
    "### The R-square is higher"
   ]
  }
 ],
 "metadata": {
  "kernelspec": {
   "display_name": "Python 3",
   "language": "python",
   "name": "python3"
  },
  "language_info": {
   "codemirror_mode": {
    "name": "ipython",
    "version": 3
   },
   "file_extension": ".py",
   "mimetype": "text/x-python",
   "name": "python",
   "nbconvert_exporter": "python",
   "pygments_lexer": "ipython3",
   "version": "3.7.4"
  }
 },
 "nbformat": 4,
 "nbformat_minor": 2
}
