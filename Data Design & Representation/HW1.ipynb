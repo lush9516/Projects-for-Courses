{
 "cells": [
  {
   "cell_type": "code",
   "execution_count": 4,
   "metadata": {},
   "outputs": [],
   "source": [
    "# Han Lu\n",
    "# Jacky Xie\n",
    "# Ruizhi Ma\n",
    "# Yining Hang"
   ]
  },
  {
   "cell_type": "markdown",
   "metadata": {},
   "source": [
    "# Regex"
   ]
  },
  {
   "cell_type": "code",
   "execution_count": 1,
   "metadata": {},
   "outputs": [],
   "source": [
    "import pandas as pd\n",
    "import numpy as np\n",
    "import re\n",
    "from bs4 import BeautifulSoup\n",
    "import requests"
   ]
  },
  {
   "cell_type": "code",
   "execution_count": 2,
   "metadata": {},
   "outputs": [],
   "source": [
    "data_re = open(\"mock_data.csv\",\"r\")\n",
    "file = data_re.read()\n",
    "file_temp = file.split(\"\\n\")\n",
    "file_no_header = \"\"\n",
    "for i in file_temp[1:]:\n",
    "    file_no_header = file_no_header+\"\\n\"+i\n",
    "data_re.close()"
   ]
  },
  {
   "cell_type": "code",
   "execution_count": 3,
   "metadata": {},
   "outputs": [
    {
     "data": {
      "text/plain": [
       "'birthday,phone,names,lat_long,email,zip,city'"
      ]
     },
     "execution_count": 3,
     "metadata": {},
     "output_type": "execute_result"
    }
   ],
   "source": [
    "file.split(\"\\n\")[0]"
   ]
  },
  {
   "cell_type": "markdown",
   "metadata": {},
   "source": [
    "### 1 To transform the column birthday from European to US data format while leaving the rest as is."
   ]
  },
  {
   "cell_type": "code",
   "execution_count": 12,
   "metadata": {
    "scrolled": true
   },
   "outputs": [
    {
     "name": "stdout",
     "output_type": "stream",
     "text": [
      "\n",
      "2020-07-05,1-560-294-4480,Leslie H. Howard,\"-80.7931, 157.73725\",magna.Nam@Praesentinterdumligula.com,05-449,Campina Grande\n",
      "2019-11-06,1-616-403-7121,Kyra T. Wynn,\"-54.65661, 87.93458\",amet.ornare@uterosnon.net,1975,Bagh\n",
      "2020-11-23,1-258-160-9496,Darius G. Huff,\"-56.23283, -116.1583\",ipsum@erat.co.\n"
     ]
    }
   ],
   "source": [
    "file_1 = re.sub(r\"([0-9]{2})\\.([0-9]{2})\\.([0-9]{4})\",r\"\\3-\\2-\\1\" \\\n",
    "       ,file_no_header)\n",
    "print(file_1[:300])"
   ]
  },
  {
   "cell_type": "markdown",
   "metadata": {},
   "source": [
    "### 2 To strip everything BUT the email column."
   ]
  },
  {
   "cell_type": "code",
   "execution_count": 10,
   "metadata": {},
   "outputs": [
    {
     "name": "stdout",
     "output_type": "stream",
     "text": [
      "\n",
      "magna.Nam@Praesentinterdumligula.com\n",
      "amet.ornare@uterosnon.net\n",
      "ipsum@erat.co.uk\n",
      "nunc.est.mollis@auctor.com\n",
      "neque.venenatis@Phasellus.ca\n",
      "Proin.mi@a.co.uk\n",
      "gravida.non.sollicitudin@odioNam.net\n",
      "Cras@dict\n"
     ]
    }
   ],
   "source": [
    "file_2 = re.sub( \\\n",
    "       r\".+,.+,.+,.+,([a-zA-Z0-9\\._]+@[a-zA-Z0-9]+\\..*),.+,.+\" \\\n",
    "       ,r\"\\1\",file_no_header)\n",
    "print(file_2[:200])"
   ]
  },
  {
   "cell_type": "markdown",
   "metadata": {},
   "source": [
    "### 3 - To convert all rows to \"name [TAB] birthday\" only (and strip the rest).  The birthday column should be in the US format. ([TAB]s will allow you to copy and pass its result into excel.)"
   ]
  },
  {
   "cell_type": "code",
   "execution_count": 9,
   "metadata": {},
   "outputs": [
    {
     "name": "stdout",
     "output_type": "stream",
     "text": [
      "\n",
      "2020-07-05\tLeslie H. Howard\n",
      "2019-11-06\tKyra T. Wynn\n",
      "2020-11-23\tDarius G. Huff\n",
      "2020-05-07\tFlynn M. Rodriguez\n",
      "2020-09-25\tDamon K. Potts\n",
      "2019-12-30\tOdessa U. Stewart\n",
      "2019-03-04\tRuby M. Noble\n",
      "2020-12-17\t\n"
     ]
    }
   ],
   "source": [
    "file_3 = re.sub( \\\n",
    "       r\"([0-9]{2})\\.([0-9]{2})\\.([0-9]{4}),.+,([a-zA-Z]+\\s[A-Z]{1}\\.\\s[a-zA-Z]+),.+,.+,.+,.+\" \\\n",
    "       ,r\"\\3-\\2-\\1\\t\\4\",file_no_header)\n",
    "print(file_3[:200])\n"
   ]
  },
  {
   "cell_type": "markdown",
   "metadata": {},
   "source": [
    "### 4 - To strip everything BUT lat_long AND reorder its entries to be \"long [TAB] lat\".  ([TAB]s will allow you to copy and pass its result into excel.)"
   ]
  },
  {
   "cell_type": "code",
   "execution_count": 14,
   "metadata": {},
   "outputs": [
    {
     "name": "stdout",
     "output_type": "stream",
     "text": [
      "\n",
      "157.73725\t-80.7931\n",
      "87.93458\t-54.65661\n",
      "-116.1583\t-56.23283\n",
      "-93.02564\t50.02477\n",
      "91.87029\t34.94064\n",
      "96.3\n"
     ]
    }
   ],
   "source": [
    "file_4 = re.sub( \\\n",
    "       r\".+,.+,.+,\\\"(.+),\\s(.+)\\\",.+,.+,.+\" \\\n",
    "       ,r\"\\2\\t\\1\",file_no_header)\n",
    "print(file_4[:100])"
   ]
  },
  {
   "cell_type": "markdown",
   "metadata": {},
   "source": [
    "# Web Scrapping"
   ]
  },
  {
   "cell_type": "code",
   "execution_count": 4,
   "metadata": {},
   "outputs": [],
   "source": [
    "# use agents to get access\n",
    "agent = {'User-Agent': 'Mozilla/5.0'}\n",
    "page = requests.get('https://www.usnews.com/',headers=agent)\n",
    "web_content = page.content\n",
    "soup = BeautifulSoup(web_content,'html.parser')"
   ]
  },
  {
   "cell_type": "code",
   "execution_count": 26,
   "metadata": {},
   "outputs": [],
   "source": [
    "# Find top Stories\n",
    "top_header = soup.find(string=re.compile(\"Top Stories\"))\n",
    "top_content = top_header.parent.parent"
   ]
  },
  {
   "cell_type": "code",
   "execution_count": 32,
   "metadata": {},
   "outputs": [
    {
     "name": "stdout",
     "output_type": "stream",
     "text": [
      "https://www.usnews.com/news/national-news/articles/2020-01-06/john-bolton-prepared-to-testify-in-impeachment-trial-if-subpoenaed\n"
     ]
    }
   ],
   "source": [
    "# Read and print the URL of the _second_ current top story to the screen\n",
    "links=top_content.h3.a['href']\n",
    "top_h3=top_content.findAll('h3')\n",
    "link_list=[]\n",
    "for tag in top_h3:\n",
    "    for link in tag.findAll('a', href=True):\n",
    "        link_list.append(link['href'])\n",
    "\n",
    "print(link_list[1])"
   ]
  },
  {
   "cell_type": "code",
   "execution_count": 34,
   "metadata": {},
   "outputs": [
    {
     "data": {
      "text/plain": [
       "<Response [200]>"
      ]
     },
     "execution_count": 34,
     "metadata": {},
     "output_type": "execute_result"
    }
   ],
   "source": [
    "# Navigate to the second top story\n",
    "top_second = requests.get(link_list[1],headers=agent)\n",
    "top_second"
   ]
  },
  {
   "cell_type": "code",
   "execution_count": 44,
   "metadata": {},
   "outputs": [
    {
     "name": "stdout",
     "output_type": "stream",
     "text": [
      "John Bolton Prepared to Testify in Impeachment Trial if Subpoenaed\n"
     ]
    }
   ],
   "source": [
    "# Read and print the header\n",
    "soup_2 = BeautifulSoup(top_second.content,'html.parser')\n",
    "header_second = soup_2.findAll('h1')\n",
    "print(header_second[0].text)"
   ]
  },
  {
   "cell_type": "code",
   "execution_count": 49,
   "metadata": {},
   "outputs": [
    {
     "name": "stdout",
     "output_type": "stream",
     "text": [
      "John Bolton Prepared to Testify in Impeachment Trial if Subpoenaed \n",
      " In a statement, Monday, former national security adviser John Bolton said \"I have concluded that, if the Senate issues a subpoena for my testimony, I am prepared to testify.”(Chip Somodevilla/Getty Images) \n",
      " Former national security adviser John Bolton said Monday that he would testify in the Senate's impeachment trial of President Donald Trump if he's subpoenaed, a significant development as the upper chamber negotiates the framework of a trial and whether witnesses can be called. \n",
      " SEE: \n"
     ]
    }
   ],
   "source": [
    "# Read and print the header & the first 3 sentences\n",
    "main_body = soup_2.find('main')\n",
    "main_content = main_body.find('div',id='usn-toc-content')\n",
    "body = main_content.findAll('p')\n",
    "\n",
    "three_list = []\n",
    "for p in body:\n",
    "    three_list.append(p.text)\n",
    "print(header_second[0].text,\"\\n\",three_list[0],\"\\n\",three_list[1],\"\\n\",three_list[2])"
   ]
  }
 ],
 "metadata": {
  "kernelspec": {
   "display_name": "Python 3",
   "language": "python",
   "name": "python3"
  },
  "language_info": {
   "codemirror_mode": {
    "name": "ipython",
    "version": 3
   },
   "file_extension": ".py",
   "mimetype": "text/x-python",
   "name": "python",
   "nbconvert_exporter": "python",
   "pygments_lexer": "ipython3",
   "version": "3.7.4"
  }
 },
 "nbformat": 4,
 "nbformat_minor": 2
}
